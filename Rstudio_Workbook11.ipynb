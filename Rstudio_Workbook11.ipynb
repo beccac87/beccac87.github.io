{
  "nbformat": 4,
  "nbformat_minor": 0,
  "metadata": {
    "colab": {
      "provenance": [],
      "include_colab_link": true
    },
    "kernelspec": {
      "name": "python3",
      "display_name": "Python 3"
    },
    "language_info": {
      "name": "python"
    }
  },
  "cells": [
    {
      "cell_type": "markdown",
      "metadata": {
        "id": "view-in-github",
        "colab_type": "text"
      },
      "source": [
        "<a href=\"https://colab.research.google.com/github/beccac87/beccac87.github.io/blob/master/Rstudio_Workbook11.ipynb\" target=\"_parent\"><img src=\"https://colab.research.google.com/assets/colab-badge.svg\" alt=\"Open In Colab\"/></a>"
      ]
    },
    {
      "cell_type": "markdown",
      "metadata": {
        "id": "Hs-_Ei8Sc0a2"
      },
      "source": [
        "Import packages needed for the exercise"
      ]
    },
    {
      "cell_type": "code",
      "metadata": {
        "id": "ZBDm1vbFbAOd"
      },
      "source": [
        "import pandas as pd  #package for managing data\n",
        "import numpy as np   #package for array-processing\n",
        "from sklearn import tree, preprocessing  #package for machine learning"
      ],
      "execution_count": null,
      "outputs": []
    },
    {
      "cell_type": "markdown",
      "metadata": {
        "id": "qFUjvjfNdlPq"
      },
      "source": [
        "Read in two datasets from Kaggle: one for testing data, one for training"
      ]
    },
    {
      "cell_type": "code",
      "metadata": {
        "id": "JG5sBZvVdUNv"
      },
      "source": [
        "train_url = \"http://s3.amazonaws.com/assets.datacamp.com/course/Kaggle/train.csv\"\n",
        "train = pd.read_csv(train_url)\n",
        "\n",
        "test_url = \"http://s3.amazonaws.com/assets.datacamp.com/course/Kaggle/test.csv\"\n",
        "test = pd.read_csv(test_url)\n",
        "\n",
        "# pd.read_csv() means “please invoke the read_csv() function, which lives in\n",
        "# the pd (pandas) library.” Technically, we created a DataFrame object and\n",
        "# called one of its built-in methods."
      ],
      "execution_count": null,
      "outputs": []
    },
    {
      "cell_type": "markdown",
      "metadata": {
        "id": "_IwBOP2UePkB"
      },
      "source": [
        "Perform two functions on the train dataset: print() and head()"
      ]
    },
    {
      "cell_type": "code",
      "metadata": {
        "id": "aIp0sF28eC86",
        "colab": {
          "base_uri": "https://localhost:8080/"
        },
        "outputId": "50b20e94-2724-4dcf-932b-f6c761a715e2"
      },
      "source": [
        "print(train.head())"
      ],
      "execution_count": null,
      "outputs": [
        {
          "output_type": "stream",
          "name": "stdout",
          "text": [
            "   PassengerId  Survived  Pclass  \\\n",
            "0            1         0       3   \n",
            "1            2         1       1   \n",
            "2            3         1       3   \n",
            "3            4         1       1   \n",
            "4            5         0       3   \n",
            "\n",
            "                                                Name     Sex   Age  SibSp  \\\n",
            "0                            Braund, Mr. Owen Harris    male  22.0      1   \n",
            "1  Cumings, Mrs. John Bradley (Florence Briggs Th...  female  38.0      1   \n",
            "2                             Heikkinen, Miss. Laina  female  26.0      0   \n",
            "3       Futrelle, Mrs. Jacques Heath (Lily May Peel)  female  35.0      1   \n",
            "4                           Allen, Mr. William Henry    male  35.0      0   \n",
            "\n",
            "   Parch            Ticket     Fare Cabin Embarked  \n",
            "0      0         A/5 21171   7.2500   NaN        S  \n",
            "1      0          PC 17599  71.2833   C85        C  \n",
            "2      0  STON/O2. 3101282   7.9250   NaN        S  \n",
            "3      0            113803  53.1000  C123        S  \n",
            "4      0            373450   8.0500   NaN        S  \n"
          ]
        }
      ]
    },
    {
      "cell_type": "markdown",
      "metadata": {
        "id": "E6n0pKwpfogp"
      },
      "source": [
        "Do the same for the test dataset"
      ]
    },
    {
      "cell_type": "code",
      "metadata": {
        "id": "sMe3c-qAfk_b",
        "colab": {
          "base_uri": "https://localhost:8080/"
        },
        "outputId": "af504b82-babd-462b-ea21-b565e87bec1e"
      },
      "source": [
        "print(test.head())"
      ],
      "execution_count": null,
      "outputs": [
        {
          "output_type": "stream",
          "name": "stdout",
          "text": [
            "   PassengerId  Pclass                                          Name     Sex  \\\n",
            "0          892       3                              Kelly, Mr. James    male   \n",
            "1          893       3              Wilkes, Mrs. James (Ellen Needs)  female   \n",
            "2          894       2                     Myles, Mr. Thomas Francis    male   \n",
            "3          895       3                              Wirz, Mr. Albert    male   \n",
            "4          896       3  Hirvonen, Mrs. Alexander (Helga E Lindqvist)  female   \n",
            "\n",
            "    Age  SibSp  Parch   Ticket     Fare Cabin Embarked  \n",
            "0  34.5      0      0   330911   7.8292   NaN        Q  \n",
            "1  47.0      1      0   363272   7.0000   NaN        S  \n",
            "2  62.0      0      0   240276   9.6875   NaN        Q  \n",
            "3  27.0      0      0   315154   8.6625   NaN        S  \n",
            "4  22.0      1      1  3101298  12.2875   NaN        S  \n"
          ]
        }
      ]
    },
    {
      "cell_type": "code",
      "source": [
        "# Question 1: Which variable is missing from the test set?\n",
        "\n",
        "# Answer: Survived"
      ],
      "metadata": {
        "id": "C5h8N4XGcTMG"
      },
      "execution_count": null,
      "outputs": []
    },
    {
      "cell_type": "markdown",
      "metadata": {
        "id": "K4R43LDWf9Yk"
      },
      "source": [
        "describe() gives statistical information about each numerical variable"
      ]
    },
    {
      "cell_type": "code",
      "metadata": {
        "id": "1UwpAFqKf7B-",
        "outputId": "3e4a47e9-e6fe-456d-d600-afb2deb60deb",
        "colab": {
          "base_uri": "https://localhost:8080/",
          "height": 364
        }
      },
      "source": [
        "train.describe()"
      ],
      "execution_count": null,
      "outputs": [
        {
          "output_type": "execute_result",
          "data": {
            "text/plain": [
              "       PassengerId    Survived      Pclass         Age       SibSp  \\\n",
              "count   891.000000  891.000000  891.000000  714.000000  891.000000   \n",
              "mean    446.000000    0.383838    2.308642   29.699118    0.523008   \n",
              "std     257.353842    0.486592    0.836071   14.526497    1.102743   \n",
              "min       1.000000    0.000000    1.000000    0.420000    0.000000   \n",
              "25%     223.500000    0.000000    2.000000   20.125000    0.000000   \n",
              "50%     446.000000    0.000000    3.000000   28.000000    0.000000   \n",
              "75%     668.500000    1.000000    3.000000   38.000000    1.000000   \n",
              "max     891.000000    1.000000    3.000000   80.000000    8.000000   \n",
              "\n",
              "            Parch        Fare  \n",
              "count  891.000000  891.000000  \n",
              "mean     0.381594   32.204208  \n",
              "std      0.806057   49.693429  \n",
              "min      0.000000    0.000000  \n",
              "25%      0.000000    7.910400  \n",
              "50%      0.000000   14.454200  \n",
              "75%      0.000000   31.000000  \n",
              "max      6.000000  512.329200  "
            ],
            "text/html": [
              "\n",
              "  <div id=\"df-6993fa15-251c-469d-932c-cd641576af13\">\n",
              "    <div class=\"colab-df-container\">\n",
              "      <div>\n",
              "<style scoped>\n",
              "    .dataframe tbody tr th:only-of-type {\n",
              "        vertical-align: middle;\n",
              "    }\n",
              "\n",
              "    .dataframe tbody tr th {\n",
              "        vertical-align: top;\n",
              "    }\n",
              "\n",
              "    .dataframe thead th {\n",
              "        text-align: right;\n",
              "    }\n",
              "</style>\n",
              "<table border=\"1\" class=\"dataframe\">\n",
              "  <thead>\n",
              "    <tr style=\"text-align: right;\">\n",
              "      <th></th>\n",
              "      <th>PassengerId</th>\n",
              "      <th>Survived</th>\n",
              "      <th>Pclass</th>\n",
              "      <th>Age</th>\n",
              "      <th>SibSp</th>\n",
              "      <th>Parch</th>\n",
              "      <th>Fare</th>\n",
              "    </tr>\n",
              "  </thead>\n",
              "  <tbody>\n",
              "    <tr>\n",
              "      <th>count</th>\n",
              "      <td>891.000000</td>\n",
              "      <td>891.000000</td>\n",
              "      <td>891.000000</td>\n",
              "      <td>714.000000</td>\n",
              "      <td>891.000000</td>\n",
              "      <td>891.000000</td>\n",
              "      <td>891.000000</td>\n",
              "    </tr>\n",
              "    <tr>\n",
              "      <th>mean</th>\n",
              "      <td>446.000000</td>\n",
              "      <td>0.383838</td>\n",
              "      <td>2.308642</td>\n",
              "      <td>29.699118</td>\n",
              "      <td>0.523008</td>\n",
              "      <td>0.381594</td>\n",
              "      <td>32.204208</td>\n",
              "    </tr>\n",
              "    <tr>\n",
              "      <th>std</th>\n",
              "      <td>257.353842</td>\n",
              "      <td>0.486592</td>\n",
              "      <td>0.836071</td>\n",
              "      <td>14.526497</td>\n",
              "      <td>1.102743</td>\n",
              "      <td>0.806057</td>\n",
              "      <td>49.693429</td>\n",
              "    </tr>\n",
              "    <tr>\n",
              "      <th>min</th>\n",
              "      <td>1.000000</td>\n",
              "      <td>0.000000</td>\n",
              "      <td>1.000000</td>\n",
              "      <td>0.420000</td>\n",
              "      <td>0.000000</td>\n",
              "      <td>0.000000</td>\n",
              "      <td>0.000000</td>\n",
              "    </tr>\n",
              "    <tr>\n",
              "      <th>25%</th>\n",
              "      <td>223.500000</td>\n",
              "      <td>0.000000</td>\n",
              "      <td>2.000000</td>\n",
              "      <td>20.125000</td>\n",
              "      <td>0.000000</td>\n",
              "      <td>0.000000</td>\n",
              "      <td>7.910400</td>\n",
              "    </tr>\n",
              "    <tr>\n",
              "      <th>50%</th>\n",
              "      <td>446.000000</td>\n",
              "      <td>0.000000</td>\n",
              "      <td>3.000000</td>\n",
              "      <td>28.000000</td>\n",
              "      <td>0.000000</td>\n",
              "      <td>0.000000</td>\n",
              "      <td>14.454200</td>\n",
              "    </tr>\n",
              "    <tr>\n",
              "      <th>75%</th>\n",
              "      <td>668.500000</td>\n",
              "      <td>1.000000</td>\n",
              "      <td>3.000000</td>\n",
              "      <td>38.000000</td>\n",
              "      <td>1.000000</td>\n",
              "      <td>0.000000</td>\n",
              "      <td>31.000000</td>\n",
              "    </tr>\n",
              "    <tr>\n",
              "      <th>max</th>\n",
              "      <td>891.000000</td>\n",
              "      <td>1.000000</td>\n",
              "      <td>3.000000</td>\n",
              "      <td>80.000000</td>\n",
              "      <td>8.000000</td>\n",
              "      <td>6.000000</td>\n",
              "      <td>512.329200</td>\n",
              "    </tr>\n",
              "  </tbody>\n",
              "</table>\n",
              "</div>\n",
              "      <button class=\"colab-df-convert\" onclick=\"convertToInteractive('df-6993fa15-251c-469d-932c-cd641576af13')\"\n",
              "              title=\"Convert this dataframe to an interactive table.\"\n",
              "              style=\"display:none;\">\n",
              "        \n",
              "  <svg xmlns=\"http://www.w3.org/2000/svg\" height=\"24px\"viewBox=\"0 0 24 24\"\n",
              "       width=\"24px\">\n",
              "    <path d=\"M0 0h24v24H0V0z\" fill=\"none\"/>\n",
              "    <path d=\"M18.56 5.44l.94 2.06.94-2.06 2.06-.94-2.06-.94-.94-2.06-.94 2.06-2.06.94zm-11 1L8.5 8.5l.94-2.06 2.06-.94-2.06-.94L8.5 2.5l-.94 2.06-2.06.94zm10 10l.94 2.06.94-2.06 2.06-.94-2.06-.94-.94-2.06-.94 2.06-2.06.94z\"/><path d=\"M17.41 7.96l-1.37-1.37c-.4-.4-.92-.59-1.43-.59-.52 0-1.04.2-1.43.59L10.3 9.45l-7.72 7.72c-.78.78-.78 2.05 0 2.83L4 21.41c.39.39.9.59 1.41.59.51 0 1.02-.2 1.41-.59l7.78-7.78 2.81-2.81c.8-.78.8-2.07 0-2.86zM5.41 20L4 18.59l7.72-7.72 1.47 1.35L5.41 20z\"/>\n",
              "  </svg>\n",
              "      </button>\n",
              "      \n",
              "  <style>\n",
              "    .colab-df-container {\n",
              "      display:flex;\n",
              "      flex-wrap:wrap;\n",
              "      gap: 12px;\n",
              "    }\n",
              "\n",
              "    .colab-df-convert {\n",
              "      background-color: #E8F0FE;\n",
              "      border: none;\n",
              "      border-radius: 50%;\n",
              "      cursor: pointer;\n",
              "      display: none;\n",
              "      fill: #1967D2;\n",
              "      height: 32px;\n",
              "      padding: 0 0 0 0;\n",
              "      width: 32px;\n",
              "    }\n",
              "\n",
              "    .colab-df-convert:hover {\n",
              "      background-color: #E2EBFA;\n",
              "      box-shadow: 0px 1px 2px rgba(60, 64, 67, 0.3), 0px 1px 3px 1px rgba(60, 64, 67, 0.15);\n",
              "      fill: #174EA6;\n",
              "    }\n",
              "\n",
              "    [theme=dark] .colab-df-convert {\n",
              "      background-color: #3B4455;\n",
              "      fill: #D2E3FC;\n",
              "    }\n",
              "\n",
              "    [theme=dark] .colab-df-convert:hover {\n",
              "      background-color: #434B5C;\n",
              "      box-shadow: 0px 1px 3px 1px rgba(0, 0, 0, 0.15);\n",
              "      filter: drop-shadow(0px 1px 2px rgba(0, 0, 0, 0.3));\n",
              "      fill: #FFFFFF;\n",
              "    }\n",
              "  </style>\n",
              "\n",
              "      <script>\n",
              "        const buttonEl =\n",
              "          document.querySelector('#df-6993fa15-251c-469d-932c-cd641576af13 button.colab-df-convert');\n",
              "        buttonEl.style.display =\n",
              "          google.colab.kernel.accessAllowed ? 'block' : 'none';\n",
              "\n",
              "        async function convertToInteractive(key) {\n",
              "          const element = document.querySelector('#df-6993fa15-251c-469d-932c-cd641576af13');\n",
              "          const dataTable =\n",
              "            await google.colab.kernel.invokeFunction('convertToInteractive',\n",
              "                                                     [key], {});\n",
              "          if (!dataTable) return;\n",
              "\n",
              "          const docLinkHtml = 'Like what you see? Visit the ' +\n",
              "            '<a target=\"_blank\" href=https://colab.research.google.com/notebooks/data_table.ipynb>data table notebook</a>'\n",
              "            + ' to learn more about interactive tables.';\n",
              "          element.innerHTML = '';\n",
              "          dataTable['output_type'] = 'display_data';\n",
              "          await google.colab.output.renderOutput(dataTable, element);\n",
              "          const docLink = document.createElement('div');\n",
              "          docLink.innerHTML = docLinkHtml;\n",
              "          element.appendChild(docLink);\n",
              "        }\n",
              "      </script>\n",
              "    </div>\n",
              "  </div>\n",
              "  "
            ]
          },
          "metadata": {},
          "execution_count": 5
        }
      ]
    },
    {
      "cell_type": "code",
      "source": [
        "# Question 2: Based on the table above, what is the average age of Titanic passengers?\n",
        "\n",
        "# Answer: 29"
      ],
      "metadata": {
        "id": "B8W1G6ujcZ8q"
      },
      "execution_count": null,
      "outputs": []
    },
    {
      "cell_type": "markdown",
      "metadata": {
        "id": "gX4wi9o2gles"
      },
      "source": [
        "Focusing on the Pclass variable --> count how many unique values are in each Pclass column"
      ]
    },
    {
      "cell_type": "code",
      "metadata": {
        "id": "wD-a_9rJghxn",
        "colab": {
          "base_uri": "https://localhost:8080/"
        },
        "outputId": "ccee8bff-d879-413e-f5e1-8cc16dcc951b"
      },
      "source": [
        "train[\"Pclass\"].value_counts()\n",
        "#How many passenger classes are there?\n",
        "#Which class has the most passengers?"
      ],
      "execution_count": null,
      "outputs": [
        {
          "output_type": "execute_result",
          "data": {
            "text/plain": [
              "3    491\n",
              "1    216\n",
              "2    184\n",
              "Name: Pclass, dtype: int64"
            ]
          },
          "metadata": {},
          "execution_count": 6
        }
      ]
    },
    {
      "cell_type": "markdown",
      "metadata": {
        "id": "6DYoZOPBg39g"
      },
      "source": [
        "Does the same as previous, but counts how many survived vs. how many didn't"
      ]
    },
    {
      "cell_type": "code",
      "metadata": {
        "id": "v0x4LZlXg0yF",
        "colab": {
          "base_uri": "https://localhost:8080/"
        },
        "outputId": "72b936f9-a605-4f49-e8e8-3abee9f7274c"
      },
      "source": [
        "train[\"Survived\"].value_counts()"
      ],
      "execution_count": null,
      "outputs": [
        {
          "output_type": "execute_result",
          "data": {
            "text/plain": [
              "0    549\n",
              "1    342\n",
              "Name: Survived, dtype: int64"
            ]
          },
          "metadata": {},
          "execution_count": 7
        }
      ]
    },
    {
      "cell_type": "code",
      "source": [
        "# Question 3: What does a value of 0 mean in the example above?\n",
        "\n",
        "# Answer: In this example the 0 means 549 people"
      ],
      "metadata": {
        "id": "o5Hx3R4vcsWB"
      },
      "execution_count": null,
      "outputs": []
    },
    {
      "cell_type": "markdown",
      "metadata": {
        "id": "ZWbuikezhHbw"
      },
      "source": [
        "Gives proportion of passengers who died and survived as percentage"
      ]
    },
    {
      "cell_type": "code",
      "metadata": {
        "id": "Jb_U0iVdhByV",
        "colab": {
          "base_uri": "https://localhost:8080/"
        },
        "outputId": "309f93e8-897f-4909-d6da-6bc796ae04b3"
      },
      "source": [
        "print(train[\"Survived\"].value_counts(normalize = True))  #normalize means values will add up to 1"
      ],
      "execution_count": null,
      "outputs": [
        {
          "output_type": "stream",
          "name": "stdout",
          "text": [
            "0    0.616162\n",
            "1    0.383838\n",
            "Name: Survived, dtype: float64\n"
          ]
        }
      ]
    },
    {
      "cell_type": "code",
      "source": [
        "# Question 4: What % of passengers survived?\n",
        "\n",
        "# Answer: 38% percent of passengers survived"
      ],
      "metadata": {
        "id": "TT4dWRazczhb"
      },
      "execution_count": null,
      "outputs": []
    },
    {
      "cell_type": "markdown",
      "metadata": {
        "id": "KXhCeo_Jhchy"
      },
      "source": [
        "Group 'survived' column with 'sex' column to determine how many men survived/died"
      ]
    },
    {
      "cell_type": "code",
      "metadata": {
        "id": "gxlpK_yTha8H",
        "colab": {
          "base_uri": "https://localhost:8080/"
        },
        "outputId": "fcb017a3-f90a-495d-9a6f-813147cfffff"
      },
      "source": [
        "print(train[\"Survived\"][train[\"Sex\"] == 'male'].value_counts())"
      ],
      "execution_count": null,
      "outputs": [
        {
          "output_type": "stream",
          "name": "stdout",
          "text": [
            "0    468\n",
            "1    109\n",
            "Name: Survived, dtype: int64\n"
          ]
        }
      ]
    },
    {
      "cell_type": "markdown",
      "metadata": {
        "id": "GGjCu-tThv7D"
      },
      "source": [
        "Same for women"
      ]
    },
    {
      "cell_type": "code",
      "metadata": {
        "id": "AY5d-PEuhu_l",
        "colab": {
          "base_uri": "https://localhost:8080/"
        },
        "outputId": "afe4e3fb-2b30-4722-8636-416db2b1311f"
      },
      "source": [
        "print(train[\"Survived\"][train[\"Sex\"] == 'female'].value_counts())"
      ],
      "execution_count": null,
      "outputs": [
        {
          "output_type": "stream",
          "name": "stdout",
          "text": [
            "1    233\n",
            "0     81\n",
            "Name: Survived, dtype: int64\n"
          ]
        }
      ]
    },
    {
      "cell_type": "code",
      "source": [
        "# Question 5: Based on the stats above, would you rather be a man or a woman on the Titanic? Why?\n",
        "# What would the authors of Data Feminism say about the way of storing data in the \"Sex\" column in this dataset?\n",
        "\n",
        "#Answer: I would rather be a woman on the titanic because they had a higher survival rate."
      ],
      "metadata": {
        "id": "ukFBzZVvc9Le"
      },
      "execution_count": null,
      "outputs": []
    },
    {
      "cell_type": "markdown",
      "metadata": {
        "id": "5eIUkr8Sh_uf"
      },
      "source": [
        "**Where Age column is missing a value, fill it with median value of \"Age\" variable**\n",
        "(ML doesn't work if there is missing data)"
      ]
    },
    {
      "cell_type": "code",
      "metadata": {
        "id": "MlJmOTYgh9ts"
      },
      "source": [
        "train[\"Age\"] = train[\"Age\"].fillna(train[\"Age\"].median())\n",
        "#Does this operation mean we know the exact age of the passengers whose age is missing? Or are we simply filling in a resonable value to replace the missing ones?\n",
        "#This happens a lot when we work with algorithms - we approximate many values instead of knowing exactly what they are."
      ],
      "execution_count": null,
      "outputs": []
    },
    {
      "cell_type": "markdown",
      "metadata": {
        "id": "LvFKTA9mifRv"
      },
      "source": [
        "Assign predefined class \"target\" using Survived from training data (want target to be prediction of survival)"
      ]
    },
    {
      "cell_type": "code",
      "metadata": {
        "id": "RuZRtoUaibZg"
      },
      "source": [
        "# Create the target and features numpy arrays: target, features_one\n",
        "target = train[\"Survived\"].values #This command tells Python the variable we are trying to predict in our dataset is \"Survived\""
      ],
      "execution_count": null,
      "outputs": []
    },
    {
      "cell_type": "markdown",
      "metadata": {
        "id": "VRbCZr_Bi5gU"
      },
      "source": [
        "All predictors need to be defined in terms of numbers --> need to transform \"Sex\" column into a numeric variable (0 and 1) to use it in the model"
      ]
    },
    {
      "cell_type": "code",
      "source": [
        "train[\"Sex\"].value_counts() #We can see \"Sex\" is coded as \"female\" and \"male\" (categorical variable) - need to assign numbers to these two categories"
      ],
      "metadata": {
        "id": "-LZ4NXzx9qwC",
        "colab": {
          "base_uri": "https://localhost:8080/"
        },
        "outputId": "e9de4825-0d56-4c3e-c3a9-1e0759a0cfd1"
      },
      "execution_count": null,
      "outputs": [
        {
          "output_type": "execute_result",
          "data": {
            "text/plain": [
              "male      577\n",
              "female    314\n",
              "Name: Sex, dtype: int64"
            ]
          },
          "metadata": {},
          "execution_count": 14
        }
      ]
    },
    {
      "cell_type": "code",
      "metadata": {
        "id": "byR0kGF5iu9-"
      },
      "source": [
        "# Preprocess\n",
        "encoded_sex = preprocessing.LabelEncoder()\n",
        "\n",
        "# Convert into numbers\n",
        "train.Sex = encoded_sex.fit_transform(train.Sex)"
      ],
      "execution_count": null,
      "outputs": []
    },
    {
      "cell_type": "markdown",
      "source": [
        "Let's check if \"Sex\" was successfully transformed:"
      ],
      "metadata": {
        "id": "AXCOyz8wFNJ_"
      }
    },
    {
      "cell_type": "code",
      "source": [
        "train[\"Sex\"].value_counts()"
      ],
      "metadata": {
        "id": "SPqtATZ0FSHz",
        "colab": {
          "base_uri": "https://localhost:8080/"
        },
        "outputId": "be6de151-b270-4dc9-dc19-067fa21c3e36"
      },
      "execution_count": null,
      "outputs": [
        {
          "output_type": "execute_result",
          "data": {
            "text/plain": [
              "1    577\n",
              "0    314\n",
              "Name: Sex, dtype: int64"
            ]
          },
          "metadata": {},
          "execution_count": 16
        }
      ]
    },
    {
      "cell_type": "code",
      "source": [
        "# Question 6: What does a value of 1 correspond to - \"male\" or \"female\"?\n",
        "\n",
        "# Answer: The value 1 corresponds to male"
      ],
      "metadata": {
        "id": "elKKNfFbdePx"
      },
      "execution_count": null,
      "outputs": []
    },
    {
      "cell_type": "markdown",
      "source": [
        "The next step is to pick the predictors, aka \"features,\" that will help us predict the target variable \"Survived\":"
      ],
      "metadata": {
        "id": "gJ8-56uZFcL2"
      }
    },
    {
      "cell_type": "code",
      "source": [
        "features_one = train[[\"Pclass\", \"Sex\", \"Age\", \"Fare\"]].values"
      ],
      "metadata": {
        "id": "il42lI2h9lBx"
      },
      "execution_count": null,
      "outputs": []
    },
    {
      "cell_type": "code",
      "source": [
        "# Question 7: How many predictors will the ML model have?\n",
        "\n",
        "# Answer: 4 predictors"
      ],
      "metadata": {
        "id": "UinVGePOdjj5"
      },
      "execution_count": null,
      "outputs": []
    },
    {
      "cell_type": "markdown",
      "metadata": {
        "id": "csB641L0jBdY"
      },
      "source": [
        "Above uses **four predictors** to determine whether someone survived or not (AND uses \"DecisionTreeClassifier\" ML algorithm)\n"
      ]
    },
    {
      "cell_type": "markdown",
      "source": [
        "We are now ready to \"train\" and \"fit\" the model on the train set:"
      ],
      "metadata": {
        "id": "XKJ0Q-xUFvMC"
      }
    },
    {
      "cell_type": "code",
      "source": [
        "# Fit the first decision tree: my_tree_one\n",
        "my_tree_one = tree.DecisionTreeClassifier()\n",
        "my_tree_one = my_tree_one.fit(features_one, target)"
      ],
      "metadata": {
        "id": "UCxqHKgfFm-u"
      },
      "execution_count": null,
      "outputs": []
    },
    {
      "cell_type": "code",
      "source": [
        "#This command shows the accuracy of the model in the training phase, i.e. what proportion of the passengers is classified correctly.\n",
        "#In this case, the accuracy is pretty high - the error rate is only about 2%, pretty impressive.\n",
        "print(my_tree_one.score(features_one,target))"
      ],
      "metadata": {
        "id": "c2Q2Bh53UJVB",
        "colab": {
          "base_uri": "https://localhost:8080/"
        },
        "outputId": "8f2f44b1-10db-4f71-f2ab-856c1db6a561"
      },
      "execution_count": null,
      "outputs": [
        {
          "output_type": "stream",
          "name": "stdout",
          "text": [
            "0.9775533108866442\n"
          ]
        }
      ]
    },
    {
      "cell_type": "markdown",
      "metadata": {
        "id": "KOlb_n_UjlGO"
      },
      "source": [
        "Let's see which variables are most important in predicting whether a passenger survived (they are printed in the same order they were declared in the features_one vector: \"Pclass\", \"Sex\", \"Age\", \"Fare\"):"
      ]
    },
    {
      "cell_type": "code",
      "metadata": {
        "id": "mwnRiEnAjdUK",
        "colab": {
          "base_uri": "https://localhost:8080/"
        },
        "outputId": "36d6943b-10d6-4225-8235-9f3fe2acfa00"
      },
      "source": [
        "# Look at the importance and score of the included features\n",
        "print(my_tree_one.feature_importances_)"
      ],
      "execution_count": null,
      "outputs": [
        {
          "output_type": "stream",
          "name": "stdout",
          "text": [
            "[0.12797088 0.31274009 0.23404358 0.32524545]\n"
          ]
        }
      ]
    },
    {
      "cell_type": "code",
      "source": [
        "# Question 8: Which are the top 2 most important variables in predicting whether a passenger survived?\n",
        "\n",
        "# Answer: sex and fare"
      ],
      "metadata": {
        "id": "xOTofqFrd_w3"
      },
      "execution_count": null,
      "outputs": []
    },
    {
      "cell_type": "markdown",
      "source": [
        "At this point, we have a fully trained supervised ML model which we can now use on our test data to make predictions about who will survive the disaster."
      ],
      "metadata": {
        "id": "IC6z_xo6azRB"
      }
    },
    {
      "cell_type": "code",
      "source": [
        "# Just as with the train set, we need to \"clean\" the test data by encoding \"Sex\" as a binary and filling the missing values in \"Fare\" and \"Age\"\n",
        "test.Sex = encoded_sex.fit_transform(test.Sex)\n",
        "\n",
        "test[\"Age\"] = test[\"Age\"].fillna(test[\"Age\"].median())\n",
        "test[\"Fare\"] = test[\"Fare\"].fillna(test[\"Fare\"].median())"
      ],
      "metadata": {
        "id": "c-OcnoPFOWoG"
      },
      "execution_count": null,
      "outputs": []
    },
    {
      "cell_type": "code",
      "source": [
        "# Next, we create the list of features our prediction model will use - the same ones we used in training\n",
        "test_features = test[[\"Pclass\", \"Sex\", \"Age\", \"Fare\"]].values"
      ],
      "metadata": {
        "id": "eQzP41ZxOKU1"
      },
      "execution_count": null,
      "outputs": []
    },
    {
      "cell_type": "code",
      "source": [
        "# We are now ready to predict the fate of each passenger in the test set.\n",
        "# The command below displays our prediction - a column of 1's and 0's where 1 means that particular passenger survived;\n",
        "\n",
        "my_prediction = my_tree_one.predict(test_features)\n",
        "print(my_prediction)"
      ],
      "metadata": {
        "id": "Xbe22pdYN0m7",
        "colab": {
          "base_uri": "https://localhost:8080/"
        },
        "outputId": "bbc9cbd7-5188-4e96-df61-31b9164a72d6"
      },
      "execution_count": null,
      "outputs": [
        {
          "output_type": "stream",
          "name": "stdout",
          "text": [
            "[0 0 1 1 1 0 0 0 1 0 0 0 1 1 1 1 0 1 1 0 0 1 1 0 1 0 1 1 1 0 0 0 1 0 1 0 0\n",
            " 0 0 1 0 1 0 1 1 0 0 0 1 1 1 0 1 1 1 0 0 0 1 1 0 0 0 1 0 0 1 0 0 1 1 0 0 0\n",
            " 1 0 0 1 0 1 1 0 0 0 1 0 1 1 1 1 1 1 1 0 0 0 1 1 1 0 1 0 0 0 1 0 0 0 1 0 0\n",
            " 0 1 1 1 0 1 1 0 1 1 0 1 0 0 1 0 1 0 0 1 0 0 1 0 0 1 0 0 0 0 0 0 0 0 1 1 0\n",
            " 1 0 1 0 0 1 0 0 1 1 0 1 1 1 1 1 0 1 1 0 0 0 0 1 0 1 0 1 1 0 1 1 0 0 1 0 1\n",
            " 0 1 0 0 0 0 0 1 0 1 0 1 0 0 0 0 1 0 1 0 0 0 0 1 0 1 1 0 0 0 0 1 0 1 0 1 0\n",
            " 1 1 1 0 0 1 0 0 0 1 0 0 1 0 0 1 1 1 1 1 1 0 0 0 1 0 1 0 1 0 0 0 0 0 0 0 1\n",
            " 0 0 0 1 1 0 0 0 0 0 0 0 0 1 0 1 1 0 0 0 0 0 1 1 0 1 0 0 0 1 0 1 0 1 0 0 0\n",
            " 1 0 0 0 0 0 0 0 1 1 0 1 1 0 0 1 0 0 1 1 0 0 0 0 0 0 0 1 1 0 1 0 0 0 1 0 1\n",
            " 1 0 0 0 0 0 1 0 0 0 1 0 1 0 0 0 1 1 0 0 0 1 0 1 0 0 1 0 1 1 1 1 0 0 0 1 0\n",
            " 0 1 0 0 1 1 0 0 0 1 0 0 0 1 0 1 0 0 0 0 0 1 1 0 0 1 0 1 0 0 1 0 1 0 0 0 0\n",
            " 0 1 1 1 1 0 0 1 0 0 0]\n"
          ]
        }
      ]
    },
    {
      "cell_type": "code",
      "source": [
        "# Question 9: Based on the prediction column, what does the model predict will happen to the 3rd passenger in the test set?\n",
        "\n",
        "# Answer: They would survive"
      ],
      "metadata": {
        "id": "Y6h8f1ORduEx"
      },
      "execution_count": null,
      "outputs": []
    },
    {
      "cell_type": "markdown",
      "source": [
        "How can we improve the model? Can we include more of the variables as predctors? Here is a full list of the variables in the dataset:"
      ],
      "metadata": {
        "id": "mLkygvjUHWDT"
      }
    },
    {
      "cell_type": "code",
      "source": [
        "train.columns\n",
        "# Feel free to repeat the training steps above with an expanded list of features. This is not required for this class, though."
      ],
      "metadata": {
        "id": "vxHURnBoHeWg",
        "colab": {
          "base_uri": "https://localhost:8080/"
        },
        "outputId": "fcacdb64-b967-4b5e-c110-7d4036f3be30"
      },
      "execution_count": null,
      "outputs": [
        {
          "output_type": "execute_result",
          "data": {
            "text/plain": [
              "Index(['PassengerId', 'Survived', 'Pclass', 'Name', 'Sex', 'Age', 'SibSp',\n",
              "       'Parch', 'Ticket', 'Fare', 'Cabin', 'Embarked'],\n",
              "      dtype='object')"
            ]
          },
          "metadata": {},
          "execution_count": 24
        }
      ]
    },
    {
      "cell_type": "code",
      "source": [
        "# Quesion 10: We could create a better model by including more of the variables in the dataset, and yet, even with all of them in the model,\n",
        "# can you think of passenger characteristics that might be important for survival but are not part of the data?\n",
        "\n",
        "# Answer: A passenegr characertistic that might be important for survival could be their location at the time of the collusion. For example if someone was near the safety boats they would be more likely to survive."
      ],
      "metadata": {
        "id": "MZxjuKaiNoHH"
      },
      "execution_count": null,
      "outputs": []
    }
  ]
}