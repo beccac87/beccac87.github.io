{
  "nbformat": 4,
  "nbformat_minor": 0,
  "metadata": {
    "colab": {
      "name": "Rebecca Candee:HW3_2022.ipynb",
      "provenance": [],
      "collapsed_sections": []
    },
    "kernelspec": {
      "name": "ir",
      "display_name": "R"
    },
    "language_info": {
      "name": "R"
    }
  },
  "cells": [
    {
      "cell_type": "markdown",
      "metadata": {
        "id": "joFt0aLKgFeT"
      },
      "source": [
        "# Intro to Data Science HW 3\n",
        "\n",
        "##### Copyright 2022, Jeffrey Stanton, Jeffrey Saltz, and Jasmina Tacheva"
      ]
    },
    {
      "cell_type": "code",
      "execution_count": null,
      "metadata": {
        "id": "6fjrBLdBgFeU"
      },
      "outputs": [],
      "source": [
        "# Enter your name here: Rebecca Candee"
      ]
    },
    {
      "cell_type": "markdown",
      "metadata": {
        "id": "xrVwNQSIgFeb"
      },
      "source": [
        "### Attribution statement: (choose only one and delete the rest)"
      ]
    },
    {
      "cell_type": "code",
      "execution_count": 1,
      "metadata": {
        "id": "TvFfnDcAgFec"
      },
      "outputs": [],
      "source": [
        "# 1. I did this homework by myself, with help from the book and the professor."
      ]
    },
    {
      "cell_type": "markdown",
      "metadata": {
        "id": "Rbx1_vAHgFec"
      },
      "source": [
        "### Reminders of things to practice from last week: \n",
        "Make a data frame:\t\tdata.frame( ) <br>\n",
        "Row index of max/min:\twhich.max( )  which.min( )<br>\n",
        "Sort value or order rows: arrange( )\tsort( )   order( )<br>\n",
        "Descriptive statistics: \tmean( ) sum( ) max( ) <br>\n",
        "Conditional statement:\tif (condition) “true stuff” else “false stuff”<br>\n",
        "\n",
        "### This Week: \n",
        "Often, when you get a dataset, it is not in the format you want. You can (and should) use code to refine the dataset to become more useful. As Chapter 6 of Introduction to Data Science mentions, this is called **“data munging.”** In this homework, you will read in a dataset from the web and work on it (in a data frame) to improve its usefulness.\n"
      ]
    },
    {
      "cell_type": "markdown",
      "metadata": {
        "id": "_FNldhcigFed"
      },
      "source": [
        "## Part 1: Use read_csv( ) to read a CSV file from the web into a data frame:"
      ]
    },
    {
      "cell_type": "markdown",
      "metadata": {
        "id": "og5BFJUDgFee"
      },
      "source": [
        "A.\tUse R code to read directly from a URL on the web. Store the dataset into a new dataframe, called **testDF**. <br>\n",
        "The URL is:    <br>\n",
        "\"https://data-science-intro.s3.us-east-2.amazonaws.com/NYS_COVID_Testing.csv\" <br>\n",
        "**Hint:** use read_csv( ), not read.csv( ). This is from the **tidyverse package**. Check the help to compare them.\n"
      ]
    },
    {
      "cell_type": "code",
      "execution_count": 14,
      "metadata": {
        "id": "dGFOz2NGgFee",
        "colab": {
          "base_uri": "https://localhost:8080/"
        },
        "outputId": "e95cc915-89fd-4a43-ebe1-39af72d0ca2d"
      },
      "outputs": [
        {
          "output_type": "stream",
          "name": "stderr",
          "text": [
            "Warning message in system(\"timedatectl\", intern = TRUE):\n",
            "“running command 'timedatectl' had status 1”\n",
            "── \u001b[1mAttaching packages\u001b[22m ─────────────────────────────────────── tidyverse 1.3.1 ──\n",
            "\n",
            "\u001b[32m✔\u001b[39m \u001b[34mggplot2\u001b[39m 3.3.5     \u001b[32m✔\u001b[39m \u001b[34mpurrr  \u001b[39m 0.3.4\n",
            "\u001b[32m✔\u001b[39m \u001b[34mtibble \u001b[39m 3.1.6     \u001b[32m✔\u001b[39m \u001b[34mdplyr  \u001b[39m 1.0.7\n",
            "\u001b[32m✔\u001b[39m \u001b[34mtidyr  \u001b[39m 1.1.4     \u001b[32m✔\u001b[39m \u001b[34mstringr\u001b[39m 1.4.0\n",
            "\u001b[32m✔\u001b[39m \u001b[34mreadr  \u001b[39m 2.1.1     \u001b[32m✔\u001b[39m \u001b[34mforcats\u001b[39m 0.5.1\n",
            "\n",
            "── \u001b[1mConflicts\u001b[22m ────────────────────────────────────────── tidyverse_conflicts() ──\n",
            "\u001b[31m✖\u001b[39m \u001b[34mdplyr\u001b[39m::\u001b[32mfilter()\u001b[39m masks \u001b[34mstats\u001b[39m::filter()\n",
            "\u001b[31m✖\u001b[39m \u001b[34mdplyr\u001b[39m::\u001b[32mlag()\u001b[39m    masks \u001b[34mstats\u001b[39m::lag()\n",
            "\n"
          ]
        }
      ],
      "source": [
        "library(tidyverse)"
      ]
    },
    {
      "cell_type": "markdown",
      "metadata": {
        "id": "uOHREDI3gFef"
      },
      "source": [
        "B.\tUse View( ), head( ), and tail( ) to examine the **testDF** dataframe. <br>\n",
        "**Add a block comment that briefly describes what you see.**"
      ]
    },
    {
      "cell_type": "code",
      "execution_count": 35,
      "metadata": {
        "id": "NeXExfPvgFeg",
        "colab": {
          "base_uri": "https://localhost:8080/",
          "height": 129
        },
        "outputId": "07e06540-cdf8-4a55-e3f2-95ed504d2da5"
      },
      "outputs": [
        {
          "output_type": "display_data",
          "data": {
            "text/plain": [
              "  https://data-science-intro.s3.us-east-2.amazonaws.com/NYS_COVID_T\n",
              "1 esting.csv                                                       "
            ],
            "text/latex": "A tibble: 1 × 1\n\\begin{tabular}{l}\n https://data-science-intro.s3.us-east-2.amazonaws.com/NYS\\_COVID\\_T\\\\\n <chr>\\\\\n\\hline\n\t esting.csv\\\\\n\\end{tabular}\n",
            "text/markdown": "\nA tibble: 1 × 1\n\n| https://data-science-intro.s3.us-east-2.amazonaws.com/NYS_COVID_T &lt;chr&gt; |\n|---|\n| esting.csv |\n\n",
            "text/html": [
              "<table class=\"dataframe\">\n",
              "<caption>A tibble: 1 × 1</caption>\n",
              "<thead>\n",
              "\t<tr><th scope=col>https://data-science-intro.s3.us-east-2.amazonaws.com/NYS_COVID_T</th></tr>\n",
              "\t<tr><th scope=col>&lt;chr&gt;</th></tr>\n",
              "</thead>\n",
              "<tbody>\n",
              "\t<tr><td>esting.csv</td></tr>\n",
              "</tbody>\n",
              "</table>\n"
            ]
          },
          "metadata": {}
        }
      ],
      "source": [
        "view(testDF)\n",
        "head(testDF)"
      ]
    },
    {
      "cell_type": "markdown",
      "metadata": {
        "id": "ZeGRhKPagFef"
      },
      "source": [
        "## Part 2: Create new data frames based on a condition:"
      ]
    },
    {
      "cell_type": "markdown",
      "metadata": {
        "id": "VScQVpNDgFeh"
      },
      "source": [
        "A.\tUse the table( ) command to summarize the contents of the **AgeCategory** variable in **testDF**. <br>\n",
        "**Write a comment interpreting what you see – how many age categories are there in the dataset and what is the proportion of observations in each?**"
      ]
    },
    {
      "cell_type": "code",
      "source": [
        "table(testDF$AgeCategory)"
      ],
      "metadata": {
        "id": "Uyo7jTi4uqFv",
        "colab": {
          "base_uri": "https://localhost:8080/",
          "height": 70
        },
        "outputId": "4cec3478-f8c6-46a4-c6e0-026c2b61a426"
      },
      "execution_count": 17,
      "outputs": [
        {
          "output_type": "stream",
          "name": "stderr",
          "text": [
            "Warning message:\n",
            "“Unknown or uninitialised column: `AgeCategory`.”\n"
          ]
        },
        {
          "output_type": "display_data",
          "data": {
            "text/plain": [
              "< table of extent 0 >"
            ]
          },
          "metadata": {}
        }
      ]
    },
    {
      "cell_type": "markdown",
      "source": [
        "B. Terms like \"senior citizens\" can function as *othering* language which demeans the people it seeks to describe. We can use the **gsub()** function to find all instances of **senior_citizens** in the **AgeCategory** variable and replace them with **older_adults**. The syntax of this R function is as follows: <br>\n",
        "\n",
        "**gsub(\"term_you_want_replaced\", \"replacement_term\", string_you_want_searched)** <br>\n",
        "In this case, we want to search for **senior_citizens** and replace it with **older_adults** in **testDF$AgeCategory** - how can you use this information to overwrite the **AgeCategory** in the function below:"
      ],
      "metadata": {
        "id": "u-7LVg-29cHz"
      }
    },
    {
      "cell_type": "code",
      "source": [
        "testDF$AgeCategory<-gsub(\"senior_citizens\", \"older_adults\", testDF$AgeCategory)"
      ],
      "metadata": {
        "id": "Y_VDYqZQ9cf1",
        "colab": {
          "base_uri": "https://localhost:8080/",
          "height": 1000
        },
        "outputId": "2a2db12d-a98d-4a99-d81d-d9ceea81a3ec"
      },
      "execution_count": 36,
      "outputs": [
        {
          "output_type": "stream",
          "name": "stderr",
          "text": [
            "Warning message:\n",
            "“Unknown or uninitialised column: `AgeCategory`.”\n"
          ]
        },
        {
          "output_type": "error",
          "ename": "ERROR",
          "evalue": "ignored",
          "traceback": [
            "\u001b[1m\u001b[33mError\u001b[39m:\u001b[22m\n\u001b[33m!\u001b[39m Assigned data `gsub(\"senior_citizens\", \"older_adults\", testDF$AgeCategory)` must be compatible with existing data.\n\u001b[31m✖\u001b[39m Existing data has 1 row.\n\u001b[31m✖\u001b[39m Assigned data has 0 rows.\n\u001b[34mℹ\u001b[39m Row updates require a list value. Do you need `list()` or `as.list()`?\nTraceback:\n",
            "1. `$<-`(`*tmp*`, AgeCategory, value = character(0))",
            "2. `$<-.tbl_df`(`*tmp*`, AgeCategory, value = character(0))",
            "3. tbl_subassign(x, i = NULL, as_string(name), list(value), i_arg = NULL, \n .     j_arg = name, value_arg = substitute(value))",
            "4. vectbl_recycle_rhs_rows(value, fast_nrow(x), i_arg = NULL, value_arg)",
            "5. withCallingHandlers(for (j in seq_along(value)) {\n .     if (!is.null(value[[j]])) {\n .         value[[j]] <- vec_recycle(value[[j]], nrow)\n .     }\n . }, vctrs_error_recycle_incompatible_size = function(cnd) {\n .     cnd_signal(error_assign_incompatible_size(nrow, value, j, \n .         i_arg, value_arg))\n . })",
            "6. vec_recycle(value[[j]], nrow)",
            "7. stop_recycle_incompatible_size(x_size = 0L, size = 1L, x_arg = \"\")",
            "8. stop_vctrs(x_size = x_size, y_size = size, x_arg = x_arg, class = c(\"vctrs_error_incompatible_size\", \n .     \"vctrs_error_recycle_incompatible_size\"))",
            "9. abort(message, class = c(class, \"vctrs_error\"), ...)",
            "10. signal_abort(cnd, .file)",
            "11. signalCondition(cnd)",
            "12. (function (cnd) \n  . {\n  .     cnd_signal(error_assign_incompatible_size(nrow, value, j, \n  .         i_arg, value_arg))\n  . })(structure(list(message = \"\", trace = structure(list(call = list(\n  .     IRkernel::main(), kernel$run(), handle_shell(), executor$execute(msg), \n  .     tryCatch(evaluate(request$content$code, envir = .GlobalEnv, \n  .         output_handler = oh, stop_on_error = 1L), interrupt = function(cond) {\n  .         log_debug(\"Interrupt during execution\")\n  .         interrupted <<- TRUE\n  .     }, error = .self$handle_error), tryCatchList(expr, classes, \n  .         parentenv, handlers), tryCatchOne(tryCatchList(expr, \n  .         names[-nh], parentenv, handlers[-nh]), names[nh], parentenv, \n  .         handlers[[nh]]), doTryCatch(return(expr), name, parentenv, \n  .         handler), tryCatchList(expr, names[-nh], parentenv, handlers[-nh]), \n  .     tryCatchOne(expr, names, parentenv, handlers[[1L]]), doTryCatch(return(expr), \n  .         name, parentenv, handler), evaluate(request$content$code, \n  .         envir = .GlobalEnv, output_handler = oh, stop_on_error = 1L), \n  .     evaluate_call(expr, parsed$src[[i]], envir = envir, enclos = enclos, \n  .         debug = debug, last = i == length(out), use_try = stop_on_error != \n  .             2L, keep_warning = keep_warning, keep_message = keep_message, \n  .         output_handler = output_handler, include_timing = include_timing), \n  .     timing_fn(handle(ev <- withCallingHandlers(withVisible(eval(expr, \n  .         envir, enclos)), warning = wHandler, error = eHandler, \n  .         message = mHandler))), handle(ev <- withCallingHandlers(withVisible(eval(expr, \n  .         envir, enclos)), warning = wHandler, error = eHandler, \n  .         message = mHandler)), try(f, silent = TRUE), tryCatch(expr, \n  .         error = function(e) {\n  .             call <- conditionCall(e)\n  .             if (!is.null(call)) {\n  .                 if (identical(call[[1L]], quote(doTryCatch))) \n  .                   call <- sys.call(-4L)\n  .                 dcall <- deparse(call, nlines = 1L)\n  .                 prefix <- paste(\"Error in\", dcall, \": \")\n  .                 LONG <- 75L\n  .                 sm <- strsplit(conditionMessage(e), \"\\n\")[[1L]]\n  .                 w <- 14L + nchar(dcall, type = \"w\") + nchar(sm[1L], \n  .                   type = \"w\")\n  .                 if (is.na(w)) \n  .                   w <- 14L + nchar(dcall, type = \"b\") + nchar(sm[1L], \n  .                     type = \"b\")\n  .                 if (w > LONG) \n  .                   prefix <- paste0(prefix, \"\\n  \")\n  .             }\n  .             else prefix <- \"Error : \"\n  .             msg <- paste0(prefix, conditionMessage(e), \"\\n\")\n  .             .Internal(seterrmessage(msg[1L]))\n  .             if (!silent && isTRUE(getOption(\"show.error.messages\"))) {\n  .                 cat(msg, file = outFile)\n  .                 .Internal(printDeferredWarnings())\n  .             }\n  .             invisible(structure(msg, class = \"try-error\", condition = e))\n  .         }), tryCatchList(expr, classes, parentenv, handlers), \n  .     tryCatchOne(expr, names, parentenv, handlers[[1L]]), doTryCatch(return(expr), \n  .         name, parentenv, handler), withCallingHandlers(withVisible(eval(expr, \n  .         envir, enclos)), warning = wHandler, error = eHandler, \n  .         message = mHandler), withVisible(eval(expr, envir, enclos)), \n  .     eval(expr, envir, enclos), eval(expr, envir, enclos), `$<-`(`*tmp*`, \n  .         AgeCategory, value = `<promise>`), `$<-.tbl_df`(`*tmp*`, \n  .         AgeCategory, value = `<promise>`), tbl_subassign(x, i = NULL, \n  .         as_string(name), list(value), i_arg = NULL, j_arg = name, \n  .         value_arg = substitute(value)), vectbl_recycle_rhs_rows(value, \n  .         fast_nrow(x), i_arg = NULL, value_arg), withCallingHandlers(for (j in seq_along(value)) {\n  .         if (!is.null(value[[j]])) {\n  .             value[[j]] <- vec_recycle(value[[j]], nrow)\n  .         }\n  .     }, vctrs_error_recycle_incompatible_size = function(cnd) {\n  .         cnd_signal(error_assign_incompatible_size(nrow, value, \n  .             j, i_arg, value_arg))\n  .     }), vec_recycle(value[[j]], nrow), stop_recycle_incompatible_size(x_size = 0L, \n  .         size = 1L, x_arg = \"\"), stop_vctrs(x_size = x_size, y_size = size, \n  .         x_arg = x_arg, class = c(\"vctrs_error_incompatible_size\", \n  .             \"vctrs_error_recycle_incompatible_size\")), abort(message, \n  .         class = c(class, \"vctrs_error\"), ...)), parent = c(0L, \n  . 1L, 2L, 3L, 4L, 5L, 6L, 7L, 6L, 9L, 10L, 4L, 12L, 13L, 13L, 15L, \n  . 16L, 17L, 18L, 19L, 13L, 13L, 13L, 23L, 0L, 0L, 26L, 27L, 28L, \n  . 28L, 0L, 31L, 32L), visible = c(TRUE, TRUE, TRUE, TRUE, TRUE, \n  . TRUE, TRUE, TRUE, TRUE, TRUE, TRUE, TRUE, TRUE, TRUE, TRUE, TRUE, \n  . TRUE, TRUE, TRUE, TRUE, TRUE, TRUE, TRUE, TRUE, TRUE, TRUE, TRUE, \n  . TRUE, TRUE, TRUE, TRUE, TRUE, FALSE), namespace = c(\"IRkernel\", \n  . NA, \"IRkernel\", NA, \"base\", \"base\", \"base\", \"base\", \"base\", \"base\", \n  . \"base\", \"evaluate\", \"evaluate\", \"evaluate\", \"evaluate\", \"base\", \n  . \"base\", \"base\", \"base\", \"base\", \"base\", \"base\", \"base\", \"base\", \n  . \"base\", \"tibble\", \"tibble\", \"tibble\", \"base\", \"vctrs\", \"vctrs\", \n  . \"vctrs\", \"rlang\"), scope = c(\"::\", NA, \"local\", NA, \"::\", \"local\", \n  . \"local\", \"local\", \"local\", \"local\", \"local\", \"::\", \":::\", \"local\", \n  . \"local\", \"::\", \"::\", \"local\", \"local\", \"local\", \"::\", \"::\", \"::\", \n  . \"::\", \"::\", \":::\", \":::\", \":::\", \"::\", \"::\", \":::\", \":::\", \"::\"\n  . )), row.names = c(NA, -33L), version = 2L, class = c(\"rlang_trace\", \n  . \"rlib_trace\", \"tbl\", \"data.frame\")), parent = NULL, x_size = 0L, \n  .     y_size = 1L, x_arg = \"\", call = stop_vctrs(x_size = x_size, \n  .         y_size = size, x_arg = x_arg, class = c(\"vctrs_error_incompatible_size\", \n  .             \"vctrs_error_recycle_incompatible_size\"))), class = c(\"vctrs_error_incompatible_size\", \n  . \"vctrs_error_recycle_incompatible_size\", \"vctrs_error\", \"rlang_error\", \n  . \"error\", \"condition\")))",
            "13. cnd_signal(error_assign_incompatible_size(nrow, value, j, i_arg, \n  .     value_arg))",
            "14. signal_abort(cnd)"
          ]
        }
      ]
    },
    {
      "cell_type": "markdown",
      "metadata": {
        "id": "Vd9_XpcugFeg"
      },
      "source": [
        "C.\tCreate a dataframe (called **olderAdults**) that contains only the rows (observations) for which the value in the **AgeCategory** variable (column) is **older_adults**. Hint: Use subsetting."
      ]
    },
    {
      "cell_type": "code",
      "execution_count": 37,
      "metadata": {
        "id": "Np98gQZJgFeh",
        "colab": {
          "base_uri": "https://localhost:8080/",
          "height": 1000
        },
        "outputId": "c757563c-d920-463a-b186-9d1c6b775e5d"
      },
      "outputs": [
        {
          "output_type": "stream",
          "name": "stderr",
          "text": [
            "Warning message:\n",
            "“Unknown or uninitialised column: `AgeCategory`.”\n"
          ]
        },
        {
          "output_type": "error",
          "ename": "ERROR",
          "evalue": "ignored",
          "traceback": [
            "\u001b[1m\u001b[33mError\u001b[39m:\u001b[22m\n\u001b[33m!\u001b[39m Must subset rows with a valid subscript vector.\n\u001b[34mℹ\u001b[39m Logical subscripts must match the size of the indexed input.\n\u001b[31m✖\u001b[39m Input has size 1 but subscript `testDF$AgeCategory == \"older_adults\"` has size 0.\nTraceback:\n",
            "1. testDF[testDF$AgeCategory == \"older_adults\", ]",
            "2. `[.spec_tbl_df`(testDF, testDF$AgeCategory == \"older_adults\", \n .     )",
            "3. NextMethod(`[`)",
            "4. `[.tbl_df`(testDF, testDF$AgeCategory == \"older_adults\", )",
            "5. tbl_subset_row(xo, i = i, i_arg)",
            "6. vectbl_as_row_index(i, x, i_arg)",
            "7. vectbl_as_row_location(i, nr, i_arg, assign)",
            "8. subclass_row_index_errors(vec_as_location(i, n), i_arg = i_arg, \n .     assign = assign)",
            "9. withCallingHandlers(expr, vctrs_error_subscript = function(cnd) {\n .     cnd$subscript_arg <- i_arg\n .     cnd$subscript_elt <- \"row\"\n .     if (isTRUE(assign) && !isTRUE(cnd$subscript_action %in% c(\"negate\"))) {\n .         cnd$subscript_action <- \"assign\"\n .     }\n .     cnd_signal(cnd)\n . })",
            "10. vec_as_location(i, n)",
            "11. (function () \n  . stop_indicator_size(i = i, n = n, subscript_action = subscript_action, \n  .     subscript_arg = subscript_arg))()",
            "12. stop_indicator_size(i = i, n = n, subscript_action = subscript_action, \n  .     subscript_arg = subscript_arg)",
            "13. cnd_signal(new_error_subscript_size(i, n = n, ..., body = cnd_body_vctrs_error_indicator_size))",
            "14. signal_abort(cnd)",
            "15. signalCondition(cnd)",
            "16. (function (cnd) \n  . {\n  .     cnd$subscript_arg <- i_arg\n  .     cnd$subscript_elt <- \"row\"\n  .     if (isTRUE(assign) && !isTRUE(cnd$subscript_action %in% c(\"negate\"))) {\n  .         cnd$subscript_action <- \"assign\"\n  .     }\n  .     cnd_signal(cnd)\n  . })(structure(list(message = \"\", trace = structure(list(call = list(\n  .     IRkernel::main(), kernel$run(), handle_shell(), executor$execute(msg), \n  .     tryCatch(evaluate(request$content$code, envir = .GlobalEnv, \n  .         output_handler = oh, stop_on_error = 1L), interrupt = function(cond) {\n  .         log_debug(\"Interrupt during execution\")\n  .         interrupted <<- TRUE\n  .     }, error = .self$handle_error), tryCatchList(expr, classes, \n  .         parentenv, handlers), tryCatchOne(tryCatchList(expr, \n  .         names[-nh], parentenv, handlers[-nh]), names[nh], parentenv, \n  .         handlers[[nh]]), doTryCatch(return(expr), name, parentenv, \n  .         handler), tryCatchList(expr, names[-nh], parentenv, handlers[-nh]), \n  .     tryCatchOne(expr, names, parentenv, handlers[[1L]]), doTryCatch(return(expr), \n  .         name, parentenv, handler), evaluate(request$content$code, \n  .         envir = .GlobalEnv, output_handler = oh, stop_on_error = 1L), \n  .     evaluate_call(expr, parsed$src[[i]], envir = envir, enclos = enclos, \n  .         debug = debug, last = i == length(out), use_try = stop_on_error != \n  .             2L, keep_warning = keep_warning, keep_message = keep_message, \n  .         output_handler = output_handler, include_timing = include_timing), \n  .     timing_fn(handle(ev <- withCallingHandlers(withVisible(eval(expr, \n  .         envir, enclos)), warning = wHandler, error = eHandler, \n  .         message = mHandler))), handle(ev <- withCallingHandlers(withVisible(eval(expr, \n  .         envir, enclos)), warning = wHandler, error = eHandler, \n  .         message = mHandler)), try(f, silent = TRUE), tryCatch(expr, \n  .         error = function(e) {\n  .             call <- conditionCall(e)\n  .             if (!is.null(call)) {\n  .                 if (identical(call[[1L]], quote(doTryCatch))) \n  .                   call <- sys.call(-4L)\n  .                 dcall <- deparse(call, nlines = 1L)\n  .                 prefix <- paste(\"Error in\", dcall, \": \")\n  .                 LONG <- 75L\n  .                 sm <- strsplit(conditionMessage(e), \"\\n\")[[1L]]\n  .                 w <- 14L + nchar(dcall, type = \"w\") + nchar(sm[1L], \n  .                   type = \"w\")\n  .                 if (is.na(w)) \n  .                   w <- 14L + nchar(dcall, type = \"b\") + nchar(sm[1L], \n  .                     type = \"b\")\n  .                 if (w > LONG) \n  .                   prefix <- paste0(prefix, \"\\n  \")\n  .             }\n  .             else prefix <- \"Error : \"\n  .             msg <- paste0(prefix, conditionMessage(e), \"\\n\")\n  .             .Internal(seterrmessage(msg[1L]))\n  .             if (!silent && isTRUE(getOption(\"show.error.messages\"))) {\n  .                 cat(msg, file = outFile)\n  .                 .Internal(printDeferredWarnings())\n  .             }\n  .             invisible(structure(msg, class = \"try-error\", condition = e))\n  .         }), tryCatchList(expr, classes, parentenv, handlers), \n  .     tryCatchOne(expr, names, parentenv, handlers[[1L]]), doTryCatch(return(expr), \n  .         name, parentenv, handler), withCallingHandlers(withVisible(eval(expr, \n  .         envir, enclos)), warning = wHandler, error = eHandler, \n  .         message = mHandler), withVisible(eval(expr, envir, enclos)), \n  .     eval(expr, envir, enclos), eval(expr, envir, enclos), testDF[testDF$AgeCategory == \n  .         \"older_adults\", ], `[.spec_tbl_df`(testDF, testDF$AgeCategory == \n  .         \"older_adults\", ), NextMethod(`[`), `[.tbl_df`(testDF, \n  .         testDF$AgeCategory == \"older_adults\", ), tbl_subset_row(xo, \n  .         i = i, i_arg), vectbl_as_row_index(i, x, i_arg), vectbl_as_row_location(i, \n  .         nr, i_arg, assign), subclass_row_index_errors(vec_as_location(i, \n  .         n), i_arg = i_arg, assign = assign), withCallingHandlers(expr, \n  .         vctrs_error_subscript = function(cnd) {\n  .             cnd$subscript_arg <- i_arg\n  .             cnd$subscript_elt <- \"row\"\n  .             if (isTRUE(assign) && !isTRUE(cnd$subscript_action %in% \n  .                 c(\"negate\"))) {\n  .                 cnd$subscript_action <- \"assign\"\n  .             }\n  .             cnd_signal(cnd)\n  .         }), vec_as_location(i, n), `<fn>`(), stop_indicator_size(i = i, \n  .         n = n, subscript_action = subscript_action, subscript_arg = subscript_arg), \n  .     cnd_signal(new_error_subscript_size(i, n = n, ..., body = cnd_body_vctrs_error_indicator_size))), \n  .     parent = c(0L, 1L, 2L, 3L, 4L, 5L, 6L, 7L, 6L, 9L, 10L, 4L, \n  .     12L, 13L, 13L, 15L, 16L, 17L, 18L, 19L, 13L, 13L, 13L, 23L, \n  .     0L, 0L, 0L, 0L, 28L, 29L, 30L, 31L, 32L, 31L, 34L, 35L, 36L\n  .     ), visible = c(TRUE, TRUE, TRUE, TRUE, TRUE, TRUE, TRUE, \n  .     TRUE, TRUE, TRUE, TRUE, TRUE, TRUE, TRUE, TRUE, TRUE, TRUE, \n  .     TRUE, TRUE, TRUE, TRUE, TRUE, TRUE, TRUE, TRUE, TRUE, TRUE, \n  .     TRUE, TRUE, TRUE, TRUE, TRUE, TRUE, TRUE, TRUE, TRUE, FALSE\n  .     ), namespace = c(\"IRkernel\", NA, \"IRkernel\", NA, \"base\", \n  .     \"base\", \"base\", \"base\", \"base\", \"base\", \"base\", \"evaluate\", \n  .     \"evaluate\", \"evaluate\", \"evaluate\", \"base\", \"base\", \"base\", \n  .     \"base\", \"base\", \"base\", \"base\", \"base\", \"base\", NA, \"readr\", \n  .     \"base\", \"tibble\", \"tibble\", \"tibble\", \"tibble\", \"tibble\", \n  .     \"base\", \"vctrs\", \"vctrs\", \"vctrs\", \"rlang\"), scope = c(\"::\", \n  .     NA, \"local\", NA, \"::\", \"local\", \"local\", \"local\", \"local\", \n  .     \"local\", \"local\", \"::\", \":::\", \"local\", \"local\", \"::\", \"::\", \n  .     \"local\", \"local\", \"local\", \"::\", \"::\", \"::\", \"::\", NA, \":::\", \n  .     \"::\", \":::\", \":::\", \":::\", \":::\", \":::\", \"::\", \"::\", \"local\", \n  .     \":::\", \"::\")), row.names = c(NA, -37L), version = 2L, class = c(\"rlang_trace\", \n  . \"rlib_trace\", \"tbl\", \"data.frame\")), parent = NULL, i = logical(0), \n  .     n = 1L, subscript_action = NULL, subscript_arg = \"\", body = function (cnd, \n  .         ...) \n  .     {\n  .         cnd$subscript_arg <- append_arg(\"subscript\", cnd$subscript_arg)\n  .         glue_data_bullets(cnd, i = \"Logical subscripts must match the size of the indexed input.\", \n  .             x = \"Input has size {n} but {subscript_arg} has size {vec_size(i)}.\")\n  .     }, call = NULL), class = c(\"vctrs_error_subscript_size\", \n  . \"vctrs_error_subscript\", \"rlang_error\", \"error\", \"condition\")))",
            "17. cnd_signal(cnd)",
            "18. signal_abort(cnd)"
          ]
        }
      ],
      "source": [
        "olderAdults <- testDF[testDF$AgeCategory == \"older_adults\",]"
      ]
    },
    {
      "cell_type": "markdown",
      "metadata": {
        "id": "a9-DocvngFei"
      },
      "source": [
        "D.\tUse the dim() command on **olderAdults** to confirm that the data frame contains **2,686** observations and **5** columns/variables."
      ]
    },
    {
      "cell_type": "code",
      "source": [
        "dim(olderAdults)"
      ],
      "metadata": {
        "id": "dE5DM_RetsHW",
        "colab": {
          "base_uri": "https://localhost:8080/",
          "height": 97
        },
        "outputId": "5461853c-305c-4697-c9ad-51f3837204e9"
      },
      "execution_count": 20,
      "outputs": [
        {
          "output_type": "error",
          "ename": "ERROR",
          "evalue": "ignored",
          "traceback": [
            "Error in eval(expr, envir, enclos): object 'olderAdults' not found\nTraceback:\n"
          ]
        }
      ]
    },
    {
      "cell_type": "markdown",
      "metadata": {
        "id": "9k9qBS6vgFei"
      },
      "source": [
        "E.\tUse **subsetting** to create a new dataframe that contains only the observations for which the value in the **AgeCategory** variable is **young_adults**. The name of this new df should be **youngAdults**."
      ]
    },
    {
      "cell_type": "code",
      "execution_count": 21,
      "metadata": {
        "id": "dpFRnBxWgFeh",
        "colab": {
          "base_uri": "https://localhost:8080/",
          "height": 1000
        },
        "outputId": "3b7cad87-33da-40ee-cf83-203a2839d356"
      },
      "outputs": [
        {
          "output_type": "stream",
          "name": "stderr",
          "text": [
            "Warning message:\n",
            "“Unknown or uninitialised column: `AgeCategory`.”\n"
          ]
        },
        {
          "output_type": "error",
          "ename": "ERROR",
          "evalue": "ignored",
          "traceback": [
            "\u001b[1m\u001b[33mError\u001b[39m:\u001b[22m\n\u001b[33m!\u001b[39m Must subset rows with a valid subscript vector.\n\u001b[34mℹ\u001b[39m Logical subscripts must match the size of the indexed input.\n\u001b[31m✖\u001b[39m Input has size 1 but subscript `testDF$AgeCategory == \"young_adults\"` has size 0.\nTraceback:\n",
            "1. testDF[testDF$AgeCategory == \"young_adults\", ]",
            "2. `[.spec_tbl_df`(testDF, testDF$AgeCategory == \"young_adults\", \n .     )",
            "3. NextMethod(`[`)",
            "4. `[.tbl_df`(testDF, testDF$AgeCategory == \"young_adults\", )",
            "5. tbl_subset_row(xo, i = i, i_arg)",
            "6. vectbl_as_row_index(i, x, i_arg)",
            "7. vectbl_as_row_location(i, nr, i_arg, assign)",
            "8. subclass_row_index_errors(vec_as_location(i, n), i_arg = i_arg, \n .     assign = assign)",
            "9. withCallingHandlers(expr, vctrs_error_subscript = function(cnd) {\n .     cnd$subscript_arg <- i_arg\n .     cnd$subscript_elt <- \"row\"\n .     if (isTRUE(assign) && !isTRUE(cnd$subscript_action %in% c(\"negate\"))) {\n .         cnd$subscript_action <- \"assign\"\n .     }\n .     cnd_signal(cnd)\n . })",
            "10. vec_as_location(i, n)",
            "11. (function () \n  . stop_indicator_size(i = i, n = n, subscript_action = subscript_action, \n  .     subscript_arg = subscript_arg))()",
            "12. stop_indicator_size(i = i, n = n, subscript_action = subscript_action, \n  .     subscript_arg = subscript_arg)",
            "13. cnd_signal(new_error_subscript_size(i, n = n, ..., body = cnd_body_vctrs_error_indicator_size))",
            "14. signal_abort(cnd)",
            "15. signalCondition(cnd)",
            "16. (function (cnd) \n  . {\n  .     cnd$subscript_arg <- i_arg\n  .     cnd$subscript_elt <- \"row\"\n  .     if (isTRUE(assign) && !isTRUE(cnd$subscript_action %in% c(\"negate\"))) {\n  .         cnd$subscript_action <- \"assign\"\n  .     }\n  .     cnd_signal(cnd)\n  . })(structure(list(message = \"\", trace = structure(list(call = list(\n  .     IRkernel::main(), kernel$run(), handle_shell(), executor$execute(msg), \n  .     tryCatch(evaluate(request$content$code, envir = .GlobalEnv, \n  .         output_handler = oh, stop_on_error = 1L), interrupt = function(cond) {\n  .         log_debug(\"Interrupt during execution\")\n  .         interrupted <<- TRUE\n  .     }, error = .self$handle_error), tryCatchList(expr, classes, \n  .         parentenv, handlers), tryCatchOne(tryCatchList(expr, \n  .         names[-nh], parentenv, handlers[-nh]), names[nh], parentenv, \n  .         handlers[[nh]]), doTryCatch(return(expr), name, parentenv, \n  .         handler), tryCatchList(expr, names[-nh], parentenv, handlers[-nh]), \n  .     tryCatchOne(expr, names, parentenv, handlers[[1L]]), doTryCatch(return(expr), \n  .         name, parentenv, handler), evaluate(request$content$code, \n  .         envir = .GlobalEnv, output_handler = oh, stop_on_error = 1L), \n  .     evaluate_call(expr, parsed$src[[i]], envir = envir, enclos = enclos, \n  .         debug = debug, last = i == length(out), use_try = stop_on_error != \n  .             2L, keep_warning = keep_warning, keep_message = keep_message, \n  .         output_handler = output_handler, include_timing = include_timing), \n  .     timing_fn(handle(ev <- withCallingHandlers(withVisible(eval(expr, \n  .         envir, enclos)), warning = wHandler, error = eHandler, \n  .         message = mHandler))), handle(ev <- withCallingHandlers(withVisible(eval(expr, \n  .         envir, enclos)), warning = wHandler, error = eHandler, \n  .         message = mHandler)), try(f, silent = TRUE), tryCatch(expr, \n  .         error = function(e) {\n  .             call <- conditionCall(e)\n  .             if (!is.null(call)) {\n  .                 if (identical(call[[1L]], quote(doTryCatch))) \n  .                   call <- sys.call(-4L)\n  .                 dcall <- deparse(call, nlines = 1L)\n  .                 prefix <- paste(\"Error in\", dcall, \": \")\n  .                 LONG <- 75L\n  .                 sm <- strsplit(conditionMessage(e), \"\\n\")[[1L]]\n  .                 w <- 14L + nchar(dcall, type = \"w\") + nchar(sm[1L], \n  .                   type = \"w\")\n  .                 if (is.na(w)) \n  .                   w <- 14L + nchar(dcall, type = \"b\") + nchar(sm[1L], \n  .                     type = \"b\")\n  .                 if (w > LONG) \n  .                   prefix <- paste0(prefix, \"\\n  \")\n  .             }\n  .             else prefix <- \"Error : \"\n  .             msg <- paste0(prefix, conditionMessage(e), \"\\n\")\n  .             .Internal(seterrmessage(msg[1L]))\n  .             if (!silent && isTRUE(getOption(\"show.error.messages\"))) {\n  .                 cat(msg, file = outFile)\n  .                 .Internal(printDeferredWarnings())\n  .             }\n  .             invisible(structure(msg, class = \"try-error\", condition = e))\n  .         }), tryCatchList(expr, classes, parentenv, handlers), \n  .     tryCatchOne(expr, names, parentenv, handlers[[1L]]), doTryCatch(return(expr), \n  .         name, parentenv, handler), withCallingHandlers(withVisible(eval(expr, \n  .         envir, enclos)), warning = wHandler, error = eHandler, \n  .         message = mHandler), withVisible(eval(expr, envir, enclos)), \n  .     eval(expr, envir, enclos), eval(expr, envir, enclos), testDF[testDF$AgeCategory == \n  .         \"young_adults\", ], `[.spec_tbl_df`(testDF, testDF$AgeCategory == \n  .         \"young_adults\", ), NextMethod(`[`), `[.tbl_df`(testDF, \n  .         testDF$AgeCategory == \"young_adults\", ), tbl_subset_row(xo, \n  .         i = i, i_arg), vectbl_as_row_index(i, x, i_arg), vectbl_as_row_location(i, \n  .         nr, i_arg, assign), subclass_row_index_errors(vec_as_location(i, \n  .         n), i_arg = i_arg, assign = assign), withCallingHandlers(expr, \n  .         vctrs_error_subscript = function(cnd) {\n  .             cnd$subscript_arg <- i_arg\n  .             cnd$subscript_elt <- \"row\"\n  .             if (isTRUE(assign) && !isTRUE(cnd$subscript_action %in% \n  .                 c(\"negate\"))) {\n  .                 cnd$subscript_action <- \"assign\"\n  .             }\n  .             cnd_signal(cnd)\n  .         }), vec_as_location(i, n), `<fn>`(), stop_indicator_size(i = i, \n  .         n = n, subscript_action = subscript_action, subscript_arg = subscript_arg), \n  .     cnd_signal(new_error_subscript_size(i, n = n, ..., body = cnd_body_vctrs_error_indicator_size))), \n  .     parent = c(0L, 1L, 2L, 3L, 4L, 5L, 6L, 7L, 6L, 9L, 10L, 4L, \n  .     12L, 13L, 13L, 15L, 16L, 17L, 18L, 19L, 13L, 13L, 13L, 23L, \n  .     0L, 0L, 0L, 0L, 28L, 29L, 30L, 31L, 32L, 31L, 34L, 35L, 36L\n  .     ), visible = c(TRUE, TRUE, TRUE, TRUE, TRUE, TRUE, TRUE, \n  .     TRUE, TRUE, TRUE, TRUE, TRUE, TRUE, TRUE, TRUE, TRUE, TRUE, \n  .     TRUE, TRUE, TRUE, TRUE, TRUE, TRUE, TRUE, TRUE, TRUE, TRUE, \n  .     TRUE, TRUE, TRUE, TRUE, TRUE, TRUE, TRUE, TRUE, TRUE, FALSE\n  .     ), namespace = c(\"IRkernel\", NA, \"IRkernel\", NA, \"base\", \n  .     \"base\", \"base\", \"base\", \"base\", \"base\", \"base\", \"evaluate\", \n  .     \"evaluate\", \"evaluate\", \"evaluate\", \"base\", \"base\", \"base\", \n  .     \"base\", \"base\", \"base\", \"base\", \"base\", \"base\", NA, \"readr\", \n  .     \"base\", \"tibble\", \"tibble\", \"tibble\", \"tibble\", \"tibble\", \n  .     \"base\", \"vctrs\", \"vctrs\", \"vctrs\", \"rlang\"), scope = c(\"::\", \n  .     NA, \"local\", NA, \"::\", \"local\", \"local\", \"local\", \"local\", \n  .     \"local\", \"local\", \"::\", \":::\", \"local\", \"local\", \"::\", \"::\", \n  .     \"local\", \"local\", \"local\", \"::\", \"::\", \"::\", \"::\", NA, \":::\", \n  .     \"::\", \":::\", \":::\", \":::\", \":::\", \":::\", \"::\", \"::\", \"local\", \n  .     \":::\", \"::\")), row.names = c(NA, -37L), version = 2L, class = c(\"rlang_trace\", \n  . \"rlib_trace\", \"tbl\", \"data.frame\")), parent = NULL, i = logical(0), \n  .     n = 1L, subscript_action = NULL, subscript_arg = \"\", body = function (cnd, \n  .         ...) \n  .     {\n  .         cnd$subscript_arg <- append_arg(\"subscript\", cnd$subscript_arg)\n  .         glue_data_bullets(cnd, i = \"Logical subscripts must match the size of the indexed input.\", \n  .             x = \"Input has size {n} but {subscript_arg} has size {vec_size(i)}.\")\n  .     }, call = NULL), class = c(\"vctrs_error_subscript_size\", \n  . \"vctrs_error_subscript\", \"rlang_error\", \"error\", \"condition\")))",
            "17. cnd_signal(cnd)",
            "18. signal_abort(cnd)"
          ]
        }
      ],
      "source": [
        "youngAdults <- testDF[testDF$AgeCategory == \"young_adults\",]"
      ]
    },
    {
      "cell_type": "markdown",
      "source": [
        "F. Create one last data frame which only contains the observations for **children** in the **AgeCategory** variable of **testDF**. Call this new df **childrenDF**."
      ],
      "metadata": {
        "id": "tCqdR-_rvotK"
      }
    },
    {
      "cell_type": "code",
      "execution_count": null,
      "metadata": {
        "id": "RgxbwBUHgFei"
      },
      "outputs": [],
      "source": [
        "childrenDF <- testDF[testDF$AgeCategory == \"children\",]"
      ]
    },
    {
      "cell_type": "markdown",
      "metadata": {
        "id": "AgpVQ9-EgFej"
      },
      "source": [
        "## Part 3: Analyze the numeric variables in the **testDF** dataframe."
      ]
    },
    {
      "cell_type": "markdown",
      "metadata": {
        "id": "eIJJEDLigFej"
      },
      "source": [
        "A.\tHow many **numeric variables** does the dataframe have? You can figure that out by looking at the output of **str(testDF)**. "
      ]
    },
    {
      "cell_type": "code",
      "execution_count": 23,
      "metadata": {
        "id": "fmx373SlgFej",
        "colab": {
          "base_uri": "https://localhost:8080/"
        },
        "outputId": "7fefc50d-83e0-4f2f-e977-2cdb3cf4505a"
      },
      "outputs": [
        {
          "output_type": "stream",
          "name": "stdout",
          "text": [
            "spec_tbl_df [1 × 1] (S3: spec_tbl_df/tbl_df/tbl/data.frame)\n",
            " $ https://data-science-intro.s3.us-east-2.amazonaws.com/NYS_COVID_T: chr \"esting.csv\"\n",
            " - attr(*, \"spec\")=\n",
            "  .. cols(\n",
            "  ..   `https://data-science-intro.s3.us-east-2.amazonaws.com/NYS_COVID_T` = \u001b[31mcol_character()\u001b[39m\n",
            "  .. )\n",
            " - attr(*, \"problems\")=<externalptr> \n"
          ]
        }
      ],
      "source": [
        "str(testDF)"
      ]
    },
    {
      "cell_type": "markdown",
      "metadata": {
        "id": "iGoHrvDVgFej"
      },
      "source": [
        "B.\tWhat is the average number of total daily tests? Hint: Can you think of a mathematical function we've come across before to use on the **TotalTests** variable?"
      ]
    },
    {
      "cell_type": "code",
      "source": [
        "mean(testDF$TotalTests)"
      ],
      "metadata": {
        "id": "SPDDt9Vz3nor",
        "colab": {
          "base_uri": "https://localhost:8080/",
          "height": 106
        },
        "outputId": "a29c84fb-c73e-46cc-9304-3aed9c5d5433"
      },
      "execution_count": 22,
      "outputs": [
        {
          "output_type": "stream",
          "name": "stderr",
          "text": [
            "Warning message:\n",
            "“Unknown or uninitialised column: `TotalTests`.”\n",
            "Warning message in mean.default(testDF$TotalTests):\n",
            "“argument is not numeric or logical: returning NA”\n"
          ]
        },
        {
          "output_type": "display_data",
          "data": {
            "text/plain": [
              "[1] NA"
            ],
            "text/latex": "<NA>",
            "text/markdown": "&lt;NA&gt;",
            "text/html": [
              "&lt;NA&gt;"
            ]
          },
          "metadata": {}
        }
      ]
    },
    {
      "cell_type": "markdown",
      "metadata": {
        "id": "nk_k9BQvgFek"
      },
      "source": [
        "C.\tHow many tests were performed in the row with the highest number of total daily tests? What age category do they correspond to? "
      ]
    },
    {
      "cell_type": "code",
      "source": [
        "max(testDF$TotalTests)"
      ],
      "metadata": {
        "id": "ysiQ8A_i3r85",
        "colab": {
          "base_uri": "https://localhost:8080/",
          "height": 106
        },
        "outputId": "c777979b-d7b6-46ae-dbf3-5ae705329968"
      },
      "execution_count": 24,
      "outputs": [
        {
          "output_type": "stream",
          "name": "stderr",
          "text": [
            "Warning message:\n",
            "“Unknown or uninitialised column: `TotalTests`.”\n",
            "Warning message in max(testDF$TotalTests):\n",
            "“no non-missing arguments to max; returning -Inf”\n"
          ]
        },
        {
          "output_type": "display_data",
          "data": {
            "text/plain": [
              "[1] -Inf"
            ],
            "text/latex": "-Inf",
            "text/markdown": "-Inf",
            "text/html": [
              "-Inf"
            ]
          },
          "metadata": {}
        }
      ]
    },
    {
      "cell_type": "markdown",
      "metadata": {
        "id": "tcjG-9ZngFel"
      },
      "source": [
        "D. How many positive cases were registered in the row with the highest number of positive cases? What age category do they correspond to?"
      ]
    },
    {
      "cell_type": "code",
      "execution_count": 25,
      "metadata": {
        "id": "FfIrqE0WgFel",
        "colab": {
          "base_uri": "https://localhost:8080/",
          "height": 106
        },
        "outputId": "e9425308-5d59-4018-a9fa-025767bb8740"
      },
      "outputs": [
        {
          "output_type": "stream",
          "name": "stderr",
          "text": [
            "Warning message:\n",
            "“Unknown or uninitialised column: `PositiveCases`.”\n",
            "Warning message in max(testDF$PositiveCases):\n",
            "“no non-missing arguments to max; returning -Inf”\n"
          ]
        },
        {
          "output_type": "display_data",
          "data": {
            "text/plain": [
              "[1] -Inf"
            ],
            "text/latex": "-Inf",
            "text/markdown": "-Inf",
            "text/html": [
              "-Inf"
            ]
          },
          "metadata": {}
        }
      ],
      "source": [
        "max(testDF$PositiveCases)"
      ]
    },
    {
      "cell_type": "markdown",
      "metadata": {
        "id": "8A7UeUoHgFel"
      },
      "source": [
        "E.\tWhat is the total number of positive cases in **testDF**?"
      ]
    },
    {
      "cell_type": "code",
      "execution_count": 26,
      "metadata": {
        "id": "V5sfGTI6gFel",
        "colab": {
          "base_uri": "https://localhost:8080/",
          "height": 70
        },
        "outputId": "73484178-3052-4f35-dde2-7f406ba1c7f1"
      },
      "outputs": [
        {
          "output_type": "stream",
          "name": "stderr",
          "text": [
            "Warning message:\n",
            "“Unknown or uninitialised column: `PositiveCases`.”\n"
          ]
        },
        {
          "output_type": "display_data",
          "data": {
            "text/plain": [
              "[1] 0"
            ],
            "text/latex": "0",
            "text/markdown": "0",
            "text/html": [
              "0"
            ]
          },
          "metadata": {}
        }
      ],
      "source": [
        "sum(testDF$PositiveCases)"
      ]
    },
    {
      "cell_type": "markdown",
      "source": [
        "F. Create a new variable in **testDF** which is the ratio of **PostiveCases** to **TotalTests**. Call this variable **PositivityRate** and explain in a comment what information it gives us."
      ],
      "metadata": {
        "id": "I4uzQowxCMo2"
      }
    },
    {
      "cell_type": "code",
      "source": [
        "testDF$PositivityRate <- testDF$PositiveCases / testDF$TotalTests"
      ],
      "metadata": {
        "id": "7MRe-aYFCM0t",
        "colab": {
          "base_uri": "https://localhost:8080/",
          "height": 1000
        },
        "outputId": "a2209d7e-e625-40a7-b101-b50ba64e11a1"
      },
      "execution_count": 27,
      "outputs": [
        {
          "output_type": "stream",
          "name": "stderr",
          "text": [
            "Warning message:\n",
            "“Unknown or uninitialised column: `PositiveCases`.”\n",
            "Warning message:\n",
            "“Unknown or uninitialised column: `TotalTests`.”\n"
          ]
        },
        {
          "output_type": "error",
          "ename": "ERROR",
          "evalue": "ignored",
          "traceback": [
            "\u001b[1m\u001b[33mError\u001b[39m:\u001b[22m\n\u001b[33m!\u001b[39m Assigned data `testDF$PositiveCases/testDF$TotalTests` must be compatible with existing data.\n\u001b[31m✖\u001b[39m Existing data has 1 row.\n\u001b[31m✖\u001b[39m Assigned data has 0 rows.\n\u001b[34mℹ\u001b[39m Row updates require a list value. Do you need `list()` or `as.list()`?\nTraceback:\n",
            "1. `$<-`(`*tmp*`, PositivityRate, value = numeric(0))",
            "2. `$<-.tbl_df`(`*tmp*`, PositivityRate, value = numeric(0))",
            "3. tbl_subassign(x, i = NULL, as_string(name), list(value), i_arg = NULL, \n .     j_arg = name, value_arg = substitute(value))",
            "4. vectbl_recycle_rhs_rows(value, fast_nrow(x), i_arg = NULL, value_arg)",
            "5. withCallingHandlers(for (j in seq_along(value)) {\n .     if (!is.null(value[[j]])) {\n .         value[[j]] <- vec_recycle(value[[j]], nrow)\n .     }\n . }, vctrs_error_recycle_incompatible_size = function(cnd) {\n .     cnd_signal(error_assign_incompatible_size(nrow, value, j, \n .         i_arg, value_arg))\n . })",
            "6. vec_recycle(value[[j]], nrow)",
            "7. stop_recycle_incompatible_size(x_size = 0L, size = 1L, x_arg = \"\")",
            "8. stop_vctrs(x_size = x_size, y_size = size, x_arg = x_arg, class = c(\"vctrs_error_incompatible_size\", \n .     \"vctrs_error_recycle_incompatible_size\"))",
            "9. abort(message, class = c(class, \"vctrs_error\"), ...)",
            "10. signal_abort(cnd, .file)",
            "11. signalCondition(cnd)",
            "12. (function (cnd) \n  . {\n  .     cnd_signal(error_assign_incompatible_size(nrow, value, j, \n  .         i_arg, value_arg))\n  . })(structure(list(message = \"\", trace = structure(list(call = list(\n  .     IRkernel::main(), kernel$run(), handle_shell(), executor$execute(msg), \n  .     tryCatch(evaluate(request$content$code, envir = .GlobalEnv, \n  .         output_handler = oh, stop_on_error = 1L), interrupt = function(cond) {\n  .         log_debug(\"Interrupt during execution\")\n  .         interrupted <<- TRUE\n  .     }, error = .self$handle_error), tryCatchList(expr, classes, \n  .         parentenv, handlers), tryCatchOne(tryCatchList(expr, \n  .         names[-nh], parentenv, handlers[-nh]), names[nh], parentenv, \n  .         handlers[[nh]]), doTryCatch(return(expr), name, parentenv, \n  .         handler), tryCatchList(expr, names[-nh], parentenv, handlers[-nh]), \n  .     tryCatchOne(expr, names, parentenv, handlers[[1L]]), doTryCatch(return(expr), \n  .         name, parentenv, handler), evaluate(request$content$code, \n  .         envir = .GlobalEnv, output_handler = oh, stop_on_error = 1L), \n  .     evaluate_call(expr, parsed$src[[i]], envir = envir, enclos = enclos, \n  .         debug = debug, last = i == length(out), use_try = stop_on_error != \n  .             2L, keep_warning = keep_warning, keep_message = keep_message, \n  .         output_handler = output_handler, include_timing = include_timing), \n  .     timing_fn(handle(ev <- withCallingHandlers(withVisible(eval(expr, \n  .         envir, enclos)), warning = wHandler, error = eHandler, \n  .         message = mHandler))), handle(ev <- withCallingHandlers(withVisible(eval(expr, \n  .         envir, enclos)), warning = wHandler, error = eHandler, \n  .         message = mHandler)), try(f, silent = TRUE), tryCatch(expr, \n  .         error = function(e) {\n  .             call <- conditionCall(e)\n  .             if (!is.null(call)) {\n  .                 if (identical(call[[1L]], quote(doTryCatch))) \n  .                   call <- sys.call(-4L)\n  .                 dcall <- deparse(call, nlines = 1L)\n  .                 prefix <- paste(\"Error in\", dcall, \": \")\n  .                 LONG <- 75L\n  .                 sm <- strsplit(conditionMessage(e), \"\\n\")[[1L]]\n  .                 w <- 14L + nchar(dcall, type = \"w\") + nchar(sm[1L], \n  .                   type = \"w\")\n  .                 if (is.na(w)) \n  .                   w <- 14L + nchar(dcall, type = \"b\") + nchar(sm[1L], \n  .                     type = \"b\")\n  .                 if (w > LONG) \n  .                   prefix <- paste0(prefix, \"\\n  \")\n  .             }\n  .             else prefix <- \"Error : \"\n  .             msg <- paste0(prefix, conditionMessage(e), \"\\n\")\n  .             .Internal(seterrmessage(msg[1L]))\n  .             if (!silent && isTRUE(getOption(\"show.error.messages\"))) {\n  .                 cat(msg, file = outFile)\n  .                 .Internal(printDeferredWarnings())\n  .             }\n  .             invisible(structure(msg, class = \"try-error\", condition = e))\n  .         }), tryCatchList(expr, classes, parentenv, handlers), \n  .     tryCatchOne(expr, names, parentenv, handlers[[1L]]), doTryCatch(return(expr), \n  .         name, parentenv, handler), withCallingHandlers(withVisible(eval(expr, \n  .         envir, enclos)), warning = wHandler, error = eHandler, \n  .         message = mHandler), withVisible(eval(expr, envir, enclos)), \n  .     eval(expr, envir, enclos), eval(expr, envir, enclos), `$<-`(`*tmp*`, \n  .         PositivityRate, value = `<promise>`), `$<-.tbl_df`(`*tmp*`, \n  .         PositivityRate, value = `<promise>`), tbl_subassign(x, \n  .         i = NULL, as_string(name), list(value), i_arg = NULL, \n  .         j_arg = name, value_arg = substitute(value)), vectbl_recycle_rhs_rows(value, \n  .         fast_nrow(x), i_arg = NULL, value_arg), withCallingHandlers(for (j in seq_along(value)) {\n  .         if (!is.null(value[[j]])) {\n  .             value[[j]] <- vec_recycle(value[[j]], nrow)\n  .         }\n  .     }, vctrs_error_recycle_incompatible_size = function(cnd) {\n  .         cnd_signal(error_assign_incompatible_size(nrow, value, \n  .             j, i_arg, value_arg))\n  .     }), vec_recycle(value[[j]], nrow), stop_recycle_incompatible_size(x_size = 0L, \n  .         size = 1L, x_arg = \"\"), stop_vctrs(x_size = x_size, y_size = size, \n  .         x_arg = x_arg, class = c(\"vctrs_error_incompatible_size\", \n  .             \"vctrs_error_recycle_incompatible_size\")), abort(message, \n  .         class = c(class, \"vctrs_error\"), ...)), parent = c(0L, \n  . 1L, 2L, 3L, 4L, 5L, 6L, 7L, 6L, 9L, 10L, 4L, 12L, 13L, 13L, 15L, \n  . 16L, 17L, 18L, 19L, 13L, 13L, 13L, 23L, 0L, 0L, 26L, 27L, 28L, \n  . 28L, 0L, 31L, 32L), visible = c(TRUE, TRUE, TRUE, TRUE, TRUE, \n  . TRUE, TRUE, TRUE, TRUE, TRUE, TRUE, TRUE, TRUE, TRUE, TRUE, TRUE, \n  . TRUE, TRUE, TRUE, TRUE, TRUE, TRUE, TRUE, TRUE, TRUE, TRUE, TRUE, \n  . TRUE, TRUE, TRUE, TRUE, TRUE, FALSE), namespace = c(\"IRkernel\", \n  . NA, \"IRkernel\", NA, \"base\", \"base\", \"base\", \"base\", \"base\", \"base\", \n  . \"base\", \"evaluate\", \"evaluate\", \"evaluate\", \"evaluate\", \"base\", \n  . \"base\", \"base\", \"base\", \"base\", \"base\", \"base\", \"base\", \"base\", \n  . \"base\", \"tibble\", \"tibble\", \"tibble\", \"base\", \"vctrs\", \"vctrs\", \n  . \"vctrs\", \"rlang\"), scope = c(\"::\", NA, \"local\", NA, \"::\", \"local\", \n  . \"local\", \"local\", \"local\", \"local\", \"local\", \"::\", \":::\", \"local\", \n  . \"local\", \"::\", \"::\", \"local\", \"local\", \"local\", \"::\", \"::\", \"::\", \n  . \"::\", \"::\", \":::\", \":::\", \":::\", \"::\", \"::\", \":::\", \":::\", \"::\"\n  . )), row.names = c(NA, -33L), version = 2L, class = c(\"rlang_trace\", \n  . \"rlib_trace\", \"tbl\", \"data.frame\")), parent = NULL, x_size = 0L, \n  .     y_size = 1L, x_arg = \"\", call = stop_vctrs(x_size = x_size, \n  .         y_size = size, x_arg = x_arg, class = c(\"vctrs_error_incompatible_size\", \n  .             \"vctrs_error_recycle_incompatible_size\"))), class = c(\"vctrs_error_incompatible_size\", \n  . \"vctrs_error_recycle_incompatible_size\", \"vctrs_error\", \"rlang_error\", \n  . \"error\", \"condition\")))",
            "13. cnd_signal(error_assign_incompatible_size(nrow, value, j, i_arg, \n  .     value_arg))",
            "14. signal_abort(cnd)"
          ]
        }
      ]
    },
    {
      "cell_type": "markdown",
      "source": [
        "G. What is the average positivity rate in **testDF**? Hint: Use the **mean()** function on the new variable you created in F."
      ],
      "metadata": {
        "id": "kKlWD9kcC0VN"
      }
    },
    {
      "cell_type": "code",
      "source": [
        "mean(testDF$PositivityRate)"
      ],
      "metadata": {
        "id": "wPSmfpkSC0iX",
        "colab": {
          "base_uri": "https://localhost:8080/",
          "height": 106
        },
        "outputId": "ccac7a99-c742-4cec-e16e-a4b74caff6d5"
      },
      "execution_count": 28,
      "outputs": [
        {
          "output_type": "stream",
          "name": "stderr",
          "text": [
            "Warning message:\n",
            "“Unknown or uninitialised column: `PositivityRate`.”\n",
            "Warning message in mean.default(testDF$PositivityRate):\n",
            "“argument is not numeric or logical: returning NA”\n"
          ]
        },
        {
          "output_type": "display_data",
          "data": {
            "text/plain": [
              "[1] NA"
            ],
            "text/latex": "<NA>",
            "text/markdown": "&lt;NA&gt;",
            "text/html": [
              "&lt;NA&gt;"
            ]
          },
          "metadata": {}
        }
      ]
    },
    {
      "cell_type": "markdown",
      "metadata": {
        "id": "Q-PDFIaZgFen"
      },
      "source": [
        "## Part 4:  Create a function to automate the process from F-G:"
      ]
    },
    {
      "cell_type": "markdown",
      "metadata": {
        "id": "ERJgEb9fgFen"
      },
      "source": [
        "A.\tThe following function should work most of the time. Make sure to run this code before trying to test it. That is how you make the new function known to R. **Add comments to each line explaining what it does:**"
      ]
    },
    {
      "cell_type": "code",
      "execution_count": 29,
      "metadata": {
        "id": "AfZuSGJbgFen"
      },
      "outputs": [],
      "source": [
        "calculatePositivity <- function(dataset) {\n",
        "  dataset$PositivityRate <- dataset$PositiveCases/dataset$TotalTests\n",
        "  avePositivity <- mean(dataset$PositivityRate)\n",
        "  return(avePositivity)\n",
        "}"
      ]
    },
    {
      "cell_type": "markdown",
      "metadata": {
        "id": "pVcB4akugFen"
      },
      "source": [
        "B.\tRun your new function on the **testDF** dataframe. Is the output of the function consistent with the output in Step G above? Explain."
      ]
    },
    {
      "cell_type": "code",
      "execution_count": 31,
      "metadata": {
        "id": "Dp7nGapZgFen",
        "colab": {
          "base_uri": "https://localhost:8080/",
          "height": 1000
        },
        "outputId": "956e53c7-ffce-4545-92f0-c0923fc98f84"
      },
      "outputs": [
        {
          "output_type": "stream",
          "name": "stderr",
          "text": [
            "Warning message:\n",
            "“Unknown or uninitialised column: `PositiveCases`.”\n",
            "Warning message:\n",
            "“Unknown or uninitialised column: `TotalTests`.”\n"
          ]
        },
        {
          "output_type": "error",
          "ename": "ERROR",
          "evalue": "ignored",
          "traceback": [
            "\u001b[1m\u001b[33mError\u001b[39m:\u001b[22m\n\u001b[33m!\u001b[39m Assigned data `dataset$PositiveCases/dataset$TotalTests` must be compatible with existing data.\n\u001b[31m✖\u001b[39m Existing data has 1 row.\n\u001b[31m✖\u001b[39m Assigned data has 0 rows.\n\u001b[34mℹ\u001b[39m Row updates require a list value. Do you need `list()` or `as.list()`?\nTraceback:\n",
            "1. calculatePositivity(testDF)",
            "2. `$<-`(`*tmp*`, \"PositivityRate\", value = numeric(0))   # at line 2 of file <text>",
            "3. `$<-.tbl_df`(`*tmp*`, \"PositivityRate\", value = numeric(0))   # at line 2 of file <text>",
            "4. tbl_subassign(x, i = NULL, as_string(name), list(value), i_arg = NULL, \n .     j_arg = name, value_arg = substitute(value))",
            "5. vectbl_recycle_rhs_rows(value, fast_nrow(x), i_arg = NULL, value_arg)",
            "6. withCallingHandlers(for (j in seq_along(value)) {\n .     if (!is.null(value[[j]])) {\n .         value[[j]] <- vec_recycle(value[[j]], nrow)\n .     }\n . }, vctrs_error_recycle_incompatible_size = function(cnd) {\n .     cnd_signal(error_assign_incompatible_size(nrow, value, j, \n .         i_arg, value_arg))\n . })",
            "7. vec_recycle(value[[j]], nrow)",
            "8. stop_recycle_incompatible_size(x_size = 0L, size = 1L, x_arg = \"\")",
            "9. stop_vctrs(x_size = x_size, y_size = size, x_arg = x_arg, class = c(\"vctrs_error_incompatible_size\", \n .     \"vctrs_error_recycle_incompatible_size\"))",
            "10. abort(message, class = c(class, \"vctrs_error\"), ...)",
            "11. signal_abort(cnd, .file)",
            "12. signalCondition(cnd)",
            "13. (function (cnd) \n  . {\n  .     cnd_signal(error_assign_incompatible_size(nrow, value, j, \n  .         i_arg, value_arg))\n  . })(structure(list(message = \"\", trace = structure(list(call = list(\n  .     IRkernel::main(), kernel$run(), handle_shell(), executor$execute(msg), \n  .     tryCatch(evaluate(request$content$code, envir = .GlobalEnv, \n  .         output_handler = oh, stop_on_error = 1L), interrupt = function(cond) {\n  .         log_debug(\"Interrupt during execution\")\n  .         interrupted <<- TRUE\n  .     }, error = .self$handle_error), tryCatchList(expr, classes, \n  .         parentenv, handlers), tryCatchOne(tryCatchList(expr, \n  .         names[-nh], parentenv, handlers[-nh]), names[nh], parentenv, \n  .         handlers[[nh]]), doTryCatch(return(expr), name, parentenv, \n  .         handler), tryCatchList(expr, names[-nh], parentenv, handlers[-nh]), \n  .     tryCatchOne(expr, names, parentenv, handlers[[1L]]), doTryCatch(return(expr), \n  .         name, parentenv, handler), evaluate(request$content$code, \n  .         envir = .GlobalEnv, output_handler = oh, stop_on_error = 1L), \n  .     evaluate_call(expr, parsed$src[[i]], envir = envir, enclos = enclos, \n  .         debug = debug, last = i == length(out), use_try = stop_on_error != \n  .             2L, keep_warning = keep_warning, keep_message = keep_message, \n  .         output_handler = output_handler, include_timing = include_timing), \n  .     timing_fn(handle(ev <- withCallingHandlers(withVisible(eval(expr, \n  .         envir, enclos)), warning = wHandler, error = eHandler, \n  .         message = mHandler))), handle(ev <- withCallingHandlers(withVisible(eval(expr, \n  .         envir, enclos)), warning = wHandler, error = eHandler, \n  .         message = mHandler)), try(f, silent = TRUE), tryCatch(expr, \n  .         error = function(e) {\n  .             call <- conditionCall(e)\n  .             if (!is.null(call)) {\n  .                 if (identical(call[[1L]], quote(doTryCatch))) \n  .                   call <- sys.call(-4L)\n  .                 dcall <- deparse(call, nlines = 1L)\n  .                 prefix <- paste(\"Error in\", dcall, \": \")\n  .                 LONG <- 75L\n  .                 sm <- strsplit(conditionMessage(e), \"\\n\")[[1L]]\n  .                 w <- 14L + nchar(dcall, type = \"w\") + nchar(sm[1L], \n  .                   type = \"w\")\n  .                 if (is.na(w)) \n  .                   w <- 14L + nchar(dcall, type = \"b\") + nchar(sm[1L], \n  .                     type = \"b\")\n  .                 if (w > LONG) \n  .                   prefix <- paste0(prefix, \"\\n  \")\n  .             }\n  .             else prefix <- \"Error : \"\n  .             msg <- paste0(prefix, conditionMessage(e), \"\\n\")\n  .             .Internal(seterrmessage(msg[1L]))\n  .             if (!silent && isTRUE(getOption(\"show.error.messages\"))) {\n  .                 cat(msg, file = outFile)\n  .                 .Internal(printDeferredWarnings())\n  .             }\n  .             invisible(structure(msg, class = \"try-error\", condition = e))\n  .         }), tryCatchList(expr, classes, parentenv, handlers), \n  .     tryCatchOne(expr, names, parentenv, handlers[[1L]]), doTryCatch(return(expr), \n  .         name, parentenv, handler), withCallingHandlers(withVisible(eval(expr, \n  .         envir, enclos)), warning = wHandler, error = eHandler, \n  .         message = mHandler), withVisible(eval(expr, envir, enclos)), \n  .     eval(expr, envir, enclos), eval(expr, envir, enclos), calculatePositivity(testDF), \n  .     `$<-`(`*tmp*`, \"PositivityRate\", value = `<promise>`), `$<-.tbl_df`(`*tmp*`, \n  .         \"PositivityRate\", value = `<promise>`), tbl_subassign(x, \n  .         i = NULL, as_string(name), list(value), i_arg = NULL, \n  .         j_arg = name, value_arg = substitute(value)), vectbl_recycle_rhs_rows(value, \n  .         fast_nrow(x), i_arg = NULL, value_arg), withCallingHandlers(for (j in seq_along(value)) {\n  .         if (!is.null(value[[j]])) {\n  .             value[[j]] <- vec_recycle(value[[j]], nrow)\n  .         }\n  .     }, vctrs_error_recycle_incompatible_size = function(cnd) {\n  .         cnd_signal(error_assign_incompatible_size(nrow, value, \n  .             j, i_arg, value_arg))\n  .     }), vec_recycle(value[[j]], nrow), stop_recycle_incompatible_size(x_size = 0L, \n  .         size = 1L, x_arg = \"\"), stop_vctrs(x_size = x_size, y_size = size, \n  .         x_arg = x_arg, class = c(\"vctrs_error_incompatible_size\", \n  .             \"vctrs_error_recycle_incompatible_size\")), abort(message, \n  .         class = c(class, \"vctrs_error\"), ...)), parent = c(0L, \n  . 1L, 2L, 3L, 4L, 5L, 6L, 7L, 6L, 9L, 10L, 4L, 12L, 13L, 13L, 15L, \n  . 16L, 17L, 18L, 19L, 13L, 13L, 13L, 23L, 0L, 25L, 25L, 27L, 28L, \n  . 29L, 29L, 0L, 32L, 33L), visible = c(TRUE, TRUE, TRUE, TRUE, \n  . TRUE, TRUE, TRUE, TRUE, TRUE, TRUE, TRUE, TRUE, TRUE, TRUE, TRUE, \n  . TRUE, TRUE, TRUE, TRUE, TRUE, TRUE, TRUE, TRUE, TRUE, TRUE, TRUE, \n  . TRUE, TRUE, TRUE, TRUE, TRUE, TRUE, TRUE, FALSE), namespace = c(\"IRkernel\", \n  . NA, \"IRkernel\", NA, \"base\", \"base\", \"base\", \"base\", \"base\", \"base\", \n  . \"base\", \"evaluate\", \"evaluate\", \"evaluate\", \"evaluate\", \"base\", \n  . \"base\", \"base\", \"base\", \"base\", \"base\", \"base\", \"base\", \"base\", \n  . NA, \"base\", \"tibble\", \"tibble\", \"tibble\", \"base\", \"vctrs\", \"vctrs\", \n  . \"vctrs\", \"rlang\"), scope = c(\"::\", NA, \"local\", NA, \"::\", \"local\", \n  . \"local\", \"local\", \"local\", \"local\", \"local\", \"::\", \":::\", \"local\", \n  . \"local\", \"::\", \"::\", \"local\", \"local\", \"local\", \"::\", \"::\", \"::\", \n  . \"::\", \"global\", \"::\", \":::\", \":::\", \":::\", \"::\", \"::\", \":::\", \n  . \":::\", \"::\")), row.names = c(NA, -34L), version = 2L, class = c(\"rlang_trace\", \n  . \"rlib_trace\", \"tbl\", \"data.frame\")), parent = NULL, x_size = 0L, \n  .     y_size = 1L, x_arg = \"\", call = stop_vctrs(x_size = x_size, \n  .         y_size = size, x_arg = x_arg, class = c(\"vctrs_error_incompatible_size\", \n  .             \"vctrs_error_recycle_incompatible_size\"))), class = c(\"vctrs_error_incompatible_size\", \n  . \"vctrs_error_recycle_incompatible_size\", \"vctrs_error\", \"rlang_error\", \n  . \"error\", \"condition\")))",
            "14. cnd_signal(error_assign_incompatible_size(nrow, value, j, i_arg, \n  .     value_arg))",
            "15. signal_abort(cnd)"
          ]
        }
      ],
      "source": [
        "calculatePositivity(testDF)"
      ]
    },
    {
      "cell_type": "markdown",
      "metadata": {
        "id": "cr_es6qdgFeo"
      },
      "source": [
        "C. Run the function on the **olderAdults** df you created earlier."
      ]
    },
    {
      "cell_type": "code",
      "source": [
        "calculatePositivity(olderAdults)"
      ],
      "metadata": {
        "id": "2JJKXwxdEG3u",
        "colab": {
          "base_uri": "https://localhost:8080/",
          "height": 133
        },
        "outputId": "f9b18101-2bfd-48b2-f52c-ff4ba17ef1bd"
      },
      "execution_count": 32,
      "outputs": [
        {
          "output_type": "error",
          "ename": "ERROR",
          "evalue": "ignored",
          "traceback": [
            "Error in calculatePositivity(olderAdults): object 'olderAdults' not found\nTraceback:\n",
            "1. calculatePositivity(olderAdults)"
          ]
        }
      ]
    },
    {
      "cell_type": "markdown",
      "metadata": {
        "id": "wL7DRtxzgFeo"
      },
      "source": [
        "D.\tRun the function on the **youngAdults** df."
      ]
    },
    {
      "cell_type": "code",
      "execution_count": 33,
      "metadata": {
        "id": "wPGXiJI5gFeo",
        "colab": {
          "base_uri": "https://localhost:8080/",
          "height": 133
        },
        "outputId": "de01f076-9bc2-4eb5-dbac-49d90d0d545f"
      },
      "outputs": [
        {
          "output_type": "error",
          "ename": "ERROR",
          "evalue": "ignored",
          "traceback": [
            "Error in calculatePositivity(youngAdults): object 'youngAdults' not found\nTraceback:\n",
            "1. calculatePositivity(youngAdults)"
          ]
        }
      ],
      "source": [
        "calculatePositivity(youngAdults)"
      ]
    },
    {
      "cell_type": "markdown",
      "metadata": {
        "id": "upKEzkfGgFeo"
      },
      "source": [
        "E. Lastly, run the posivity function on the **childrenDF** dataframe."
      ]
    },
    {
      "cell_type": "code",
      "execution_count": 34,
      "metadata": {
        "id": "SLaJ51rmgFeo",
        "colab": {
          "base_uri": "https://localhost:8080/",
          "height": 133
        },
        "outputId": "2f7bf882-a29c-42fb-e96c-6a05dfbe9a86"
      },
      "outputs": [
        {
          "output_type": "error",
          "ename": "ERROR",
          "evalue": "ignored",
          "traceback": [
            "Error in calculatePositivity(childrenDF): object 'childrenDF' not found\nTraceback:\n",
            "1. calculatePositivity(childrenDF)"
          ]
        }
      ],
      "source": [
        "calculatePositivity(childrenDF)"
      ]
    },
    {
      "cell_type": "markdown",
      "source": [
        "F. In a comment, describe what you observe across these 3 datasets - which age group exhibits the highest positivity rate? How do these numbers compare to the **baseline** positivity rate in **testDF**?"
      ],
      "metadata": {
        "id": "96HxNjKMEsZ9"
      }
    },
    {
      "cell_type": "code",
      "source": [
        "#the group with the highest positivity rate is the young adults group. this is also similair to the baseline"
      ],
      "metadata": {
        "id": "1S5oxpmnErpZ"
      },
      "execution_count": null,
      "outputs": []
    }
  ]
}