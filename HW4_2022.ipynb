{
  "nbformat": 4,
  "nbformat_minor": 0,
  "metadata": {
    "colab": {
      "name": "HW4_2022.ipynb",
      "provenance": [],
      "collapsed_sections": [],
      "include_colab_link": true
    },
    "kernelspec": {
      "name": "ir",
      "display_name": "R"
    },
    "language_info": {
      "name": "R"
    }
  },
  "cells": [
    {
      "cell_type": "markdown",
      "metadata": {
        "id": "view-in-github",
        "colab_type": "text"
      },
      "source": [
        "<a href=\"https://colab.research.google.com/github/beccac87/beccac87.github.io/blob/master/HW4_2022.ipynb\" target=\"_parent\"><img src=\"https://colab.research.google.com/assets/colab-badge.svg\" alt=\"Open In Colab\"/></a>"
      ]
    },
    {
      "cell_type": "markdown",
      "metadata": {
        "id": "Yqpbz65oFg3f"
      },
      "source": [
        "# Intro to Data Science - HW 4\n",
        "\n",
        "##### Copyright 2022, Jeffrey Stanton, Jeffrey Saltz, and Jasmina Tacheva"
      ]
    },
    {
      "cell_type": "code",
      "execution_count": null,
      "metadata": {
        "id": "uNX9XoFnFg3h"
      },
      "outputs": [],
      "source": [
        "# Enter your name here: "
      ]
    },
    {
      "cell_type": "markdown",
      "metadata": {
        "id": "nxKZLZPxFg3i"
      },
      "source": [
        "### Attribution statement: (choose only one and delete the rest)"
      ]
    },
    {
      "cell_type": "code",
      "execution_count": null,
      "metadata": {
        "id": "uiKqO6RDFg3j"
      },
      "outputs": [],
      "source": [
        "# 1. I did this homework by myself, with help from the book and the professor.\n",
        "# 2. I did this homework with help from the book and the professor and these Internet sources:\n",
        "# 3. I did this homework with help from <Name of another student> but did not cut and paste any code."
      ]
    },
    {
      "cell_type": "markdown",
      "metadata": {
        "id": "056mhQtKFg3k"
      },
      "source": [
        "**(Chapters 4, 5, and 6 of the textbook)** <br>\n",
        "\n",
        "Reminders of things to practice from previous weeks: <br>\n",
        "Descriptive statistics: \tmean( )  max( ) min( )<br>\n",
        "Sequence operator:\t\t: (For example, 1:4 is shorthand for 1, 2, 3, 4)<br>\n",
        "Create a function:\t\tmyFunc <- function(myArg) { }<br>\n",
        "?command:\t\t\tAsk R for help with a command<br>\n",
        "\n",
        "**This module:** **Sampling** is a process of **drawing elements from a larger set**. In data science, when analysts work with data, they often work with a sample of the data, rather than all of the data (which we call the **population**), because of the expense of obtaining all of the data. <br>\n",
        "\n",
        "One must be careful, however, because **statistics from a sample rarely match the characteristics of the population**. The **goal of this homework** is to **sample from a data set several times and explore the meaning of the results**. Before you get started make sure to read Chapters 8-10 of *An Introduction to Data Science*. Don’t forget your comments!\n"
      ]
    },
    {
      "cell_type": "markdown",
      "metadata": {
        "id": "7EivQiE5Fg3k"
      },
      "source": [
        "## Part 1: Write a function to compute statistics for a vector of numeric values"
      ]
    },
    {
      "cell_type": "markdown",
      "metadata": {
        "id": "RO8Rd3PJFg3l"
      },
      "source": [
        "A.\tCreate a new function which takes a numeric vector as its input argument and returns a dataframe of statistics about that vector as the output. As a start, the dataframe should have the **min**, **mean**, and **max** of the vector. The function should be called **statsCalculator**:"
      ]
    },
    {
      "cell_type": "code",
      "execution_count": null,
      "metadata": {
        "id": "mlT0IHAKFg3l"
      },
      "outputs": [],
      "source": [
        ""
      ]
    },
    {
      "cell_type": "markdown",
      "metadata": {
        "id": "m0GN7LZhFg3m"
      },
      "source": [
        "B.\tTest your function by calling it with the numbers **one through ten**:"
      ]
    },
    {
      "cell_type": "code",
      "execution_count": null,
      "metadata": {
        "id": "q4nEerMRFg3n"
      },
      "outputs": [],
      "source": [
        "statsCalculator(1:10)"
      ]
    },
    {
      "cell_type": "markdown",
      "metadata": {
        "id": "cFd70uEnFg3n"
      },
      "source": [
        "C.\tEnhance the statsCalculator() function to add the **median** and **standard deviation** to the returned dataframe."
      ]
    },
    {
      "cell_type": "code",
      "execution_count": null,
      "metadata": {
        "id": "4hhX1i6EFg3o"
      },
      "outputs": [],
      "source": [
        ""
      ]
    },
    {
      "cell_type": "markdown",
      "metadata": {
        "id": "pryxNzSfFg3o"
      },
      "source": [
        "D.\tRetest your enhanced function by calling it with the numbers **one through ten**:"
      ]
    },
    {
      "cell_type": "code",
      "execution_count": null,
      "metadata": {
        "id": "e8_3IMcuFg3o"
      },
      "outputs": [],
      "source": [
        "statsCalculator(1:10)"
      ]
    },
    {
      "cell_type": "markdown",
      "metadata": {
        "id": "jv9AxqwuFg3p"
      },
      "source": [
        "## Part 2: Sample repeatedly from the New York State COVID Testing Dataset from HW 3"
      ]
    },
    {
      "cell_type": "markdown",
      "metadata": {
        "id": "DcAkJCuEFg3p"
      },
      "source": [
        "A.\tLoad the dataset from the following URL: https://data-science-intro.s3.us-east-2.amazonaws.com/NYS_COVID_Testing.csv"
      ]
    },
    {
      "cell_type": "code",
      "source": [
        "library(tidyverse)\n",
        "testDF <- read_csv()"
      ],
      "metadata": {
        "id": "Lim88sOA3y4I"
      },
      "execution_count": null,
      "outputs": []
    },
    {
      "cell_type": "markdown",
      "metadata": {
        "id": "pRodDmvDFg3p"
      },
      "source": [
        "B. Use **head(testDF)** and **tail(testDF)** to show the data. Add a comment that describes what each variable in the data set contains. <br>"
      ]
    },
    {
      "cell_type": "code",
      "execution_count": null,
      "metadata": {
        "id": "VFN-mrTQFg3q"
      },
      "outputs": [],
      "source": [
        ""
      ]
    },
    {
      "cell_type": "markdown",
      "metadata": {
        "id": "QL2zO8XUFg3q"
      },
      "source": [
        "C.\tSample ten observations from **testDF$TotalTests**."
      ]
    },
    {
      "cell_type": "code",
      "execution_count": null,
      "metadata": {
        "id": "2ENpXxZIFg3q"
      },
      "outputs": [],
      "source": [
        ""
      ]
    },
    {
      "cell_type": "markdown",
      "metadata": {
        "id": "DNfH8k2SFg3q"
      },
      "source": [
        "D.\tCall your statsCalculator( ) function with a new sample of ten observations from **testDF$TotalTests**, where the sampling is done inside the **statsCalculator** function call. "
      ]
    },
    {
      "cell_type": "code",
      "execution_count": null,
      "metadata": {
        "id": "9Kkdr-KEFg3q"
      },
      "outputs": [],
      "source": [
        ""
      ]
    },
    {
      "cell_type": "markdown",
      "source": [
        "E. Now use the **mean()** function, with another sample done inside the mean function. Is the mean returned from the **statsCalculator** function the same as the mean returned from the mean function on this sample? Why or why not? Explain."
      ],
      "metadata": {
        "id": "_pGc20EAHuDg"
      }
    },
    {
      "cell_type": "code",
      "source": [
        ""
      ],
      "metadata": {
        "id": "si_jai0HHuNz"
      },
      "execution_count": null,
      "outputs": []
    },
    {
      "cell_type": "markdown",
      "metadata": {
        "id": "ssW4ruEcFg3r"
      },
      "source": [
        "F.\tUse the **replicate( )** function to repeat your sampling of **testDF$TotalTests** twenty times, with each sample calling **mean()** on ten observations. The first argument to **replicate( )** is the number of repeats you want. The second argument is the little chunk of code you want repeated."
      ]
    },
    {
      "cell_type": "code",
      "execution_count": null,
      "metadata": {
        "id": "eTPevnoKFg3r"
      },
      "outputs": [],
      "source": [
        ""
      ]
    },
    {
      "cell_type": "markdown",
      "metadata": {
        "id": "EEP5kBWaFg3r"
      },
      "source": [
        "G.\tWrite a comment describing why every replication produces a different result."
      ]
    },
    {
      "cell_type": "code",
      "execution_count": null,
      "metadata": {
        "id": "gh5uSpDbFg3r"
      },
      "outputs": [],
      "source": [
        ""
      ]
    },
    {
      "cell_type": "markdown",
      "metadata": {
        "id": "EpAbig8JFg3r"
      },
      "source": [
        "H.\tRerun your replication, this time doing 1000 replications and storing the output of **replicate()** in a variable called **values**."
      ]
    },
    {
      "cell_type": "code",
      "execution_count": null,
      "metadata": {
        "id": "Lc8dcqqMFg3s"
      },
      "outputs": [],
      "source": [
        ""
      ]
    },
    {
      "cell_type": "markdown",
      "metadata": {
        "id": "Z6XbluFoFg3s"
      },
      "source": [
        "I.\t Generate a **histogram** of the means stored in **values**. "
      ]
    },
    {
      "cell_type": "code",
      "execution_count": null,
      "metadata": {
        "id": "4vgK8zLQFg3s"
      },
      "outputs": [],
      "source": [
        ""
      ]
    },
    {
      "cell_type": "markdown",
      "metadata": {
        "id": "8tqeax6CFg3s"
      },
      "source": [
        "J.\tRepeat the replicated sampling, but this time, raise your sample size from **10 to 100**. "
      ]
    },
    {
      "cell_type": "code",
      "execution_count": null,
      "metadata": {
        "id": "ypNl8VjqFg3s"
      },
      "outputs": [],
      "source": [
        ""
      ]
    },
    {
      "cell_type": "markdown",
      "metadata": {
        "id": "DZVf6frTFg3s"
      },
      "source": [
        "K. Compare the two histograms - why are they different? Explain in a comment."
      ]
    },
    {
      "cell_type": "code",
      "execution_count": null,
      "metadata": {
        "id": "Mmt4v23_Fg3t"
      },
      "outputs": [],
      "source": [
        ""
      ]
    }
  ]
}